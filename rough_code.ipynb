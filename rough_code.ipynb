{
 "cells": [
  {
   "cell_type": "code",
   "execution_count": 1,
   "id": "9ae06f98",
   "metadata": {},
   "outputs": [],
   "source": [
    "import numpy as np\n",
    "import pandas as pd\n",
    "import matplotlib.pyplot as plt\n",
    "import seaborn as sns"
   ]
  },
  {
   "cell_type": "code",
   "execution_count": 2,
   "id": "d4822866",
   "metadata": {},
   "outputs": [
    {
     "data": {
      "text/html": [
       "<div>\n",
       "<style scoped>\n",
       "    .dataframe tbody tr th:only-of-type {\n",
       "        vertical-align: middle;\n",
       "    }\n",
       "\n",
       "    .dataframe tbody tr th {\n",
       "        vertical-align: top;\n",
       "    }\n",
       "\n",
       "    .dataframe thead th {\n",
       "        text-align: right;\n",
       "    }\n",
       "</style>\n",
       "<table border=\"1\" class=\"dataframe\">\n",
       "  <thead>\n",
       "    <tr style=\"text-align: right;\">\n",
       "      <th></th>\n",
       "      <th>Date</th>\n",
       "      <th>Open</th>\n",
       "      <th>High</th>\n",
       "      <th>Low</th>\n",
       "      <th>Close</th>\n",
       "      <th>Volume</th>\n",
       "    </tr>\n",
       "  </thead>\n",
       "  <tbody>\n",
       "    <tr>\n",
       "      <th>0</th>\n",
       "      <td>1/3/2012</td>\n",
       "      <td>325.25</td>\n",
       "      <td>332.83</td>\n",
       "      <td>324.97</td>\n",
       "      <td>663.59</td>\n",
       "      <td>7,380,500</td>\n",
       "    </tr>\n",
       "    <tr>\n",
       "      <th>1</th>\n",
       "      <td>1/4/2012</td>\n",
       "      <td>331.27</td>\n",
       "      <td>333.87</td>\n",
       "      <td>329.08</td>\n",
       "      <td>666.45</td>\n",
       "      <td>5,749,400</td>\n",
       "    </tr>\n",
       "    <tr>\n",
       "      <th>2</th>\n",
       "      <td>1/5/2012</td>\n",
       "      <td>329.83</td>\n",
       "      <td>330.75</td>\n",
       "      <td>326.89</td>\n",
       "      <td>657.21</td>\n",
       "      <td>6,590,300</td>\n",
       "    </tr>\n",
       "    <tr>\n",
       "      <th>3</th>\n",
       "      <td>1/6/2012</td>\n",
       "      <td>328.34</td>\n",
       "      <td>328.77</td>\n",
       "      <td>323.68</td>\n",
       "      <td>648.24</td>\n",
       "      <td>5,405,900</td>\n",
       "    </tr>\n",
       "    <tr>\n",
       "      <th>4</th>\n",
       "      <td>1/9/2012</td>\n",
       "      <td>322.04</td>\n",
       "      <td>322.29</td>\n",
       "      <td>309.46</td>\n",
       "      <td>620.76</td>\n",
       "      <td>11,688,800</td>\n",
       "    </tr>\n",
       "  </tbody>\n",
       "</table>\n",
       "</div>"
      ],
      "text/plain": [
       "       Date    Open    High     Low   Close      Volume\n",
       "0  1/3/2012  325.25  332.83  324.97  663.59   7,380,500\n",
       "1  1/4/2012  331.27  333.87  329.08  666.45   5,749,400\n",
       "2  1/5/2012  329.83  330.75  326.89  657.21   6,590,300\n",
       "3  1/6/2012  328.34  328.77  323.68  648.24   5,405,900\n",
       "4  1/9/2012  322.04  322.29  309.46  620.76  11,688,800"
      ]
     },
     "execution_count": 2,
     "metadata": {},
     "output_type": "execute_result"
    }
   ],
   "source": [
    "## load the trainining data\n",
    "train = pd.read_csv('Google_Stock_Price_Train.csv')\n",
    "train.head()"
   ]
  },
  {
   "cell_type": "code",
   "execution_count": 3,
   "id": "4dc90c90",
   "metadata": {},
   "outputs": [
    {
     "data": {
      "text/html": [
       "<div>\n",
       "<style scoped>\n",
       "    .dataframe tbody tr th:only-of-type {\n",
       "        vertical-align: middle;\n",
       "    }\n",
       "\n",
       "    .dataframe tbody tr th {\n",
       "        vertical-align: top;\n",
       "    }\n",
       "\n",
       "    .dataframe thead th {\n",
       "        text-align: right;\n",
       "    }\n",
       "</style>\n",
       "<table border=\"1\" class=\"dataframe\">\n",
       "  <thead>\n",
       "    <tr style=\"text-align: right;\">\n",
       "      <th></th>\n",
       "      <th>Open</th>\n",
       "      <th>High</th>\n",
       "      <th>Low</th>\n",
       "      <th>Close</th>\n",
       "      <th>Volume</th>\n",
       "    </tr>\n",
       "    <tr>\n",
       "      <th>Date</th>\n",
       "      <th></th>\n",
       "      <th></th>\n",
       "      <th></th>\n",
       "      <th></th>\n",
       "      <th></th>\n",
       "    </tr>\n",
       "  </thead>\n",
       "  <tbody>\n",
       "    <tr>\n",
       "      <th>2012-01-03</th>\n",
       "      <td>325.25</td>\n",
       "      <td>332.83</td>\n",
       "      <td>324.97</td>\n",
       "      <td>663.59</td>\n",
       "      <td>7,380,500</td>\n",
       "    </tr>\n",
       "    <tr>\n",
       "      <th>2012-01-04</th>\n",
       "      <td>331.27</td>\n",
       "      <td>333.87</td>\n",
       "      <td>329.08</td>\n",
       "      <td>666.45</td>\n",
       "      <td>5,749,400</td>\n",
       "    </tr>\n",
       "    <tr>\n",
       "      <th>2012-01-05</th>\n",
       "      <td>329.83</td>\n",
       "      <td>330.75</td>\n",
       "      <td>326.89</td>\n",
       "      <td>657.21</td>\n",
       "      <td>6,590,300</td>\n",
       "    </tr>\n",
       "    <tr>\n",
       "      <th>2012-01-06</th>\n",
       "      <td>328.34</td>\n",
       "      <td>328.77</td>\n",
       "      <td>323.68</td>\n",
       "      <td>648.24</td>\n",
       "      <td>5,405,900</td>\n",
       "    </tr>\n",
       "    <tr>\n",
       "      <th>2012-01-09</th>\n",
       "      <td>322.04</td>\n",
       "      <td>322.29</td>\n",
       "      <td>309.46</td>\n",
       "      <td>620.76</td>\n",
       "      <td>11,688,800</td>\n",
       "    </tr>\n",
       "  </tbody>\n",
       "</table>\n",
       "</div>"
      ],
      "text/plain": [
       "              Open    High     Low   Close      Volume\n",
       "Date                                                  \n",
       "2012-01-03  325.25  332.83  324.97  663.59   7,380,500\n",
       "2012-01-04  331.27  333.87  329.08  666.45   5,749,400\n",
       "2012-01-05  329.83  330.75  326.89  657.21   6,590,300\n",
       "2012-01-06  328.34  328.77  323.68  648.24   5,405,900\n",
       "2012-01-09  322.04  322.29  309.46  620.76  11,688,800"
      ]
     },
     "execution_count": 3,
     "metadata": {},
     "output_type": "execute_result"
    }
   ],
   "source": [
    "## converting 'Date' to datetime and setting as index\n",
    "\n",
    "train['Date'] = train['Date'].apply(lambda date: pd.to_datetime(date))\n",
    "\n",
    "train.set_index('Date', inplace=True)\n",
    "\n",
    "train.head()"
   ]
  },
  {
   "cell_type": "code",
   "execution_count": 4,
   "id": "bc49e40d",
   "metadata": {},
   "outputs": [
    {
     "data": {
      "image/png": "[encoded data removed]",
      "text/plain": [
       "<Figure size 1600x1000 with 1 Axes>"
      ]
     },
     "metadata": {},
     "output_type": "display_data"
    }
   ],
   "source": [
    "## plot\n",
    "\n",
    "%matplotlib inline\n",
    "\n",
    "fig, ax = plt.subplots(figsize=(16,10))\n",
    "\n",
    "ax.plot(train['Open'])\n",
    "ax.plot(train['High'])\n",
    "ax.plot(train['Low'])\n",
    "ax.set_xlabel('Date')\n",
    "ax.set_ylabel('Stock Price')\n",
    "ax.legend(['Open','High', 'Low'])\n",
    "\n",
    "plt.show()"
   ]
  },
  {
   "cell_type": "code",
   "execution_count": 5,
   "id": "83fd629a",
   "metadata": {},
   "outputs": [
    {
     "data": {
      "text/html": [
       "<div>\n",
       "<style scoped>\n",
       "    .dataframe tbody tr th:only-of-type {\n",
       "        vertical-align: middle;\n",
       "    }\n",
       "\n",
       "    .dataframe tbody tr th {\n",
       "        vertical-align: top;\n",
       "    }\n",
       "\n",
       "    .dataframe thead th {\n",
       "        text-align: right;\n",
       "    }\n",
       "</style>\n",
       "<table border=\"1\" class=\"dataframe\">\n",
       "  <thead>\n",
       "    <tr style=\"text-align: right;\">\n",
       "      <th></th>\n",
       "      <th>Date</th>\n",
       "      <th>Open</th>\n",
       "      <th>High</th>\n",
       "      <th>Low</th>\n",
       "      <th>Close</th>\n",
       "      <th>Volume</th>\n",
       "    </tr>\n",
       "  </thead>\n",
       "  <tbody>\n",
       "    <tr>\n",
       "      <th>0</th>\n",
       "      <td>1/3/2017</td>\n",
       "      <td>778.81</td>\n",
       "      <td>789.63</td>\n",
       "      <td>775.80</td>\n",
       "      <td>786.14</td>\n",
       "      <td>1,657,300</td>\n",
       "    </tr>\n",
       "    <tr>\n",
       "      <th>1</th>\n",
       "      <td>1/4/2017</td>\n",
       "      <td>788.36</td>\n",
       "      <td>791.34</td>\n",
       "      <td>783.16</td>\n",
       "      <td>786.90</td>\n",
       "      <td>1,073,000</td>\n",
       "    </tr>\n",
       "    <tr>\n",
       "      <th>2</th>\n",
       "      <td>1/5/2017</td>\n",
       "      <td>786.08</td>\n",
       "      <td>794.48</td>\n",
       "      <td>785.02</td>\n",
       "      <td>794.02</td>\n",
       "      <td>1,335,200</td>\n",
       "    </tr>\n",
       "    <tr>\n",
       "      <th>3</th>\n",
       "      <td>1/6/2017</td>\n",
       "      <td>795.26</td>\n",
       "      <td>807.90</td>\n",
       "      <td>792.20</td>\n",
       "      <td>806.15</td>\n",
       "      <td>1,640,200</td>\n",
       "    </tr>\n",
       "    <tr>\n",
       "      <th>4</th>\n",
       "      <td>1/9/2017</td>\n",
       "      <td>806.40</td>\n",
       "      <td>809.97</td>\n",
       "      <td>802.83</td>\n",
       "      <td>806.65</td>\n",
       "      <td>1,272,400</td>\n",
       "    </tr>\n",
       "  </tbody>\n",
       "</table>\n",
       "</div>"
      ],
      "text/plain": [
       "       Date    Open    High     Low   Close     Volume\n",
       "0  1/3/2017  778.81  789.63  775.80  786.14  1,657,300\n",
       "1  1/4/2017  788.36  791.34  783.16  786.90  1,073,000\n",
       "2  1/5/2017  786.08  794.48  785.02  794.02  1,335,200\n",
       "3  1/6/2017  795.26  807.90  792.20  806.15  1,640,200\n",
       "4  1/9/2017  806.40  809.97  802.83  806.65  1,272,400"
      ]
     },
     "execution_count": 5,
     "metadata": {},
     "output_type": "execute_result"
    }
   ],
   "source": [
    "## loading test data\n",
    "\n",
    "test = pd.read_csv('Google_Stock_Price_Test.csv')\n",
    "test.head()"
   ]
  },
  {
   "cell_type": "code",
   "execution_count": 6,
   "id": "a169706e",
   "metadata": {},
   "outputs": [
    {
     "data": {
      "text/plain": [
       "(1258, 5)"
      ]
     },
     "execution_count": 6,
     "metadata": {},
     "output_type": "execute_result"
    }
   ],
   "source": [
    "train.shape"
   ]
  },
  {
   "cell_type": "code",
   "execution_count": 7,
   "id": "e353dca7",
   "metadata": {},
   "outputs": [
    {
     "data": {
      "text/plain": [
       "(20, 6)"
      ]
     },
     "execution_count": 7,
     "metadata": {},
     "output_type": "execute_result"
    }
   ],
   "source": [
    "test.shape"
   ]
  },
  {
   "cell_type": "code",
   "execution_count": 8,
   "id": "141a9b95",
   "metadata": {},
   "outputs": [
    {
     "data": {
      "text/html": [
       "<div>\n",
       "<style scoped>\n",
       "    .dataframe tbody tr th:only-of-type {\n",
       "        vertical-align: middle;\n",
       "    }\n",
       "\n",
       "    .dataframe tbody tr th {\n",
       "        vertical-align: top;\n",
       "    }\n",
       "\n",
       "    .dataframe thead th {\n",
       "        text-align: right;\n",
       "    }\n",
       "</style>\n",
       "<table border=\"1\" class=\"dataframe\">\n",
       "  <thead>\n",
       "    <tr style=\"text-align: right;\">\n",
       "      <th></th>\n",
       "      <th>Open</th>\n",
       "      <th>High</th>\n",
       "      <th>Low</th>\n",
       "      <th>Close</th>\n",
       "      <th>Volume</th>\n",
       "    </tr>\n",
       "    <tr>\n",
       "      <th>Date</th>\n",
       "      <th></th>\n",
       "      <th></th>\n",
       "      <th></th>\n",
       "      <th></th>\n",
       "      <th></th>\n",
       "    </tr>\n",
       "  </thead>\n",
       "  <tbody>\n",
       "    <tr>\n",
       "      <th>2012-01-03</th>\n",
       "      <td>325.25</td>\n",
       "      <td>332.83</td>\n",
       "      <td>324.97</td>\n",
       "      <td>663.59</td>\n",
       "      <td>7,380,500</td>\n",
       "    </tr>\n",
       "    <tr>\n",
       "      <th>2012-01-04</th>\n",
       "      <td>331.27</td>\n",
       "      <td>333.87</td>\n",
       "      <td>329.08</td>\n",
       "      <td>666.45</td>\n",
       "      <td>5,749,400</td>\n",
       "    </tr>\n",
       "    <tr>\n",
       "      <th>2012-01-05</th>\n",
       "      <td>329.83</td>\n",
       "      <td>330.75</td>\n",
       "      <td>326.89</td>\n",
       "      <td>657.21</td>\n",
       "      <td>6,590,300</td>\n",
       "    </tr>\n",
       "    <tr>\n",
       "      <th>2012-01-06</th>\n",
       "      <td>328.34</td>\n",
       "      <td>328.77</td>\n",
       "      <td>323.68</td>\n",
       "      <td>648.24</td>\n",
       "      <td>5,405,900</td>\n",
       "    </tr>\n",
       "    <tr>\n",
       "      <th>2012-01-09</th>\n",
       "      <td>322.04</td>\n",
       "      <td>322.29</td>\n",
       "      <td>309.46</td>\n",
       "      <td>620.76</td>\n",
       "      <td>11,688,800</td>\n",
       "    </tr>\n",
       "  </tbody>\n",
       "</table>\n",
       "</div>"
      ],
      "text/plain": [
       "              Open    High     Low   Close      Volume\n",
       "Date                                                  \n",
       "2012-01-03  325.25  332.83  324.97  663.59   7,380,500\n",
       "2012-01-04  331.27  333.87  329.08  666.45   5,749,400\n",
       "2012-01-05  329.83  330.75  326.89  657.21   6,590,300\n",
       "2012-01-06  328.34  328.77  323.68  648.24   5,405,900\n",
       "2012-01-09  322.04  322.29  309.46  620.76  11,688,800"
      ]
     },
     "execution_count": 8,
     "metadata": {},
     "output_type": "execute_result"
    }
   ],
   "source": [
    "train.head()"
   ]
  },
  {
   "cell_type": "code",
   "execution_count": 9,
   "id": "f4d0f2ef",
   "metadata": {},
   "outputs": [],
   "source": [
    "train_data = train.values[:,1:2]"
   ]
  },
  {
   "cell_type": "code",
   "execution_count": 10,
   "id": "f59fb039",
   "metadata": {},
   "outputs": [],
   "source": [
    "## data normalisation\n",
    "## normalisation is preferred over standardisation for RNNs with sigmoid in output layer\n",
    "\n",
    "from sklearn.preprocessing import MinMaxScaler\n",
    "\n",
    "mms = MinMaxScaler(feature_range=(0,1))"
   ]
  },
  {
   "cell_type": "code",
   "execution_count": 11,
   "id": "0207eee8",
   "metadata": {},
   "outputs": [],
   "source": [
    "scaled_train_data = mms.fit_transform(train_data)"
   ]
  },
  {
   "cell_type": "code",
   "execution_count": 12,
   "id": "4b769318",
   "metadata": {},
   "outputs": [
    {
     "data": {
      "text/plain": [
       "array([[0.09640129],\n",
       "       [0.09834351],\n",
       "       [0.09251685],\n",
       "       ...,\n",
       "       [0.95807422],\n",
       "       [0.94257381],\n",
       "       [0.93669113]])"
      ]
     },
     "execution_count": 12,
     "metadata": {},
     "output_type": "execute_result"
    }
   ],
   "source": [
    "scaled_train_data"
   ]
  },
  {
   "cell_type": "code",
   "execution_count": 13,
   "id": "b5a2e728",
   "metadata": {},
   "outputs": [
    {
     "data": {
      "text/plain": [
       "array([[332.83],\n",
       "       [333.87],\n",
       "       [330.75],\n",
       "       ...,\n",
       "       [794.23],\n",
       "       [785.93],\n",
       "       [782.78]], dtype=object)"
      ]
     },
     "execution_count": 13,
     "metadata": {},
     "output_type": "execute_result"
    }
   ],
   "source": [
    "train_data"
   ]
  },
  {
   "cell_type": "code",
   "execution_count": 14,
   "id": "0e0360e7",
   "metadata": {},
   "outputs": [],
   "source": [
    "## NUMBER OF TIME STEPS (EXTREMELY IMPORTANT)\n",
    "## TELLS THE MODEL WHAT IT NEEDS TO REMEBER IN ORDER TO MAKE THE PREDICTION"
   ]
  },
  {
   "cell_type": "code",
   "execution_count": 15,
   "id": "3e14c4eb",
   "metadata": {},
   "outputs": [],
   "source": [
    "## BASICALLY -> use <time steps> previous values for prediction\n",
    "## taking time steps = 60"
   ]
  },
  {
   "cell_type": "code",
   "execution_count": 16,
   "id": "9388a726",
   "metadata": {},
   "outputs": [],
   "source": [
    "time_steps = 60"
   ]
  },
  {
   "cell_type": "code",
   "execution_count": 17,
   "id": "b436a52f",
   "metadata": {},
   "outputs": [],
   "source": [
    "X = list()\n",
    "y = list()\n",
    "\n",
    "for i in range(time_steps, len(scaled_train_data)):\n",
    "    X.append(scaled_train_data[i-time_steps:i,0].reshape(time_steps))\n",
    "    y.append(scaled_train_data[i,0])\n",
    "    \n",
    "X, y = np.array(X), np.array(y)"
   ]
  },
  {
   "cell_type": "code",
   "execution_count": 18,
   "id": "24a5bb7b",
   "metadata": {},
   "outputs": [
    {
     "data": {
      "text/plain": [
       "array([[0.09640129, 0.09834351, 0.09251685, ..., 0.07903337, 0.08276841,\n",
       "        0.08751191],\n",
       "       [0.09834351, 0.09251685, 0.08881917, ..., 0.08276841, 0.08751191,\n",
       "        0.08564439],\n",
       "       [0.09251685, 0.08881917, 0.07671765, ..., 0.08751191, 0.08564439,\n",
       "        0.08274973],\n",
       "       ...,\n",
       "       [0.92416008, 0.92909033, 0.93536519, ..., 0.95637477, 0.95529161,\n",
       "        0.96485331],\n",
       "       [0.92909033, 0.93536519, 0.93239584, ..., 0.95529161, 0.96485331,\n",
       "        0.95807422],\n",
       "       [0.93536519, 0.93239584, 0.93086447, ..., 0.96485331, 0.95807422,\n",
       "        0.94257381]])"
      ]
     },
     "execution_count": 18,
     "metadata": {},
     "output_type": "execute_result"
    }
   ],
   "source": [
    "X"
   ]
  },
  {
   "cell_type": "code",
   "execution_count": 19,
   "id": "154d19f6",
   "metadata": {},
   "outputs": [
    {
     "data": {
      "text/plain": [
       "array([0.08564439, 0.08274973, 0.07718453, ..., 0.95807422, 0.94257381,\n",
       "       0.93669113])"
      ]
     },
     "execution_count": 19,
     "metadata": {},
     "output_type": "execute_result"
    }
   ],
   "source": [
    "y"
   ]
  },
  {
   "cell_type": "code",
   "execution_count": 20,
   "id": "ea93a18e",
   "metadata": {},
   "outputs": [],
   "source": [
    "## ADDING A NEW DIMESION TO X_TRAIN\n",
    "\n",
    "## TWO REASONS:\n",
    "## ONE --> KERAS RNN LAYERS NEED AN INPUT OF DIMESION (BATCH_SIZE, TIMESTEPS, INPUT_DIM), INPUT_DIM --> NO. OF PREDICTORS\n",
    "## TWO --> IT ENABLES US TO ADD OTHER PREDICTORS FOR TRAINING. E.G., STOCK PRICES FOR SIMILAR TECH COMPANIES"
   ]
  },
  {
   "cell_type": "code",
   "execution_count": 21,
   "id": "016226ba",
   "metadata": {},
   "outputs": [],
   "source": [
    "X = np.reshape(X, (X.shape[0], X.shape[1], 1))"
   ]
  },
  {
   "cell_type": "code",
   "execution_count": 22,
   "id": "05ea1f42",
   "metadata": {},
   "outputs": [],
   "source": [
    "## TRAIN VALIDATION SPLIT\n",
    "\n",
    "from sklearn.model_selection import train_test_split"
   ]
  },
  {
   "cell_type": "code",
   "execution_count": 23,
   "id": "c0a48927",
   "metadata": {},
   "outputs": [],
   "source": [
    "X_train, X_validation, y_train, y_validation = train_test_split(X, y, test_size=0.2, random_state=27)"
   ]
  },
  {
   "cell_type": "code",
   "execution_count": null,
   "id": "325c0d0c",
   "metadata": {},
   "outputs": [],
   "source": []
  },
  {
   "cell_type": "code",
   "execution_count": 24,
   "id": "15a8f321",
   "metadata": {},
   "outputs": [],
   "source": [
    "##BUILDING THE RNN"
   ]
  },
  {
   "cell_type": "code",
   "execution_count": 25,
   "id": "4bc55c12",
   "metadata": {},
   "outputs": [
    {
     "name": "stderr",
     "output_type": "stream",
     "text": [
      "C:\\Users\\abhin\\anaconda3\\envs\\nlp_course\\lib\\site-packages\\tensorflow\\python\\framework\\dtypes.py:526: FutureWarning: Passing (type, 1) or '1type' as a synonym of type is deprecated; in a future version of numpy, it will be understood as (type, (1,)) / '(1,)type'.\n",
      "  _np_qint8 = np.dtype([(\"qint8\", np.int8, 1)])\n",
      "C:\\Users\\abhin\\anaconda3\\envs\\nlp_course\\lib\\site-packages\\tensorflow\\python\\framework\\dtypes.py:527: FutureWarning: Passing (type, 1) or '1type' as a synonym of type is deprecated; in a future version of numpy, it will be understood as (type, (1,)) / '(1,)type'.\n",
      "  _np_quint8 = np.dtype([(\"quint8\", np.uint8, 1)])\n",
      "C:\\Users\\abhin\\anaconda3\\envs\\nlp_course\\lib\\site-packages\\tensorflow\\python\\framework\\dtypes.py:528: FutureWarning: Passing (type, 1) or '1type' as a synonym of type is deprecated; in a future version of numpy, it will be understood as (type, (1,)) / '(1,)type'.\n",
      "  _np_qint16 = np.dtype([(\"qint16\", np.int16, 1)])\n",
      "C:\\Users\\abhin\\anaconda3\\envs\\nlp_course\\lib\\site-packages\\tensorflow\\python\\framework\\dtypes.py:529: FutureWarning: Passing (type, 1) or '1type' as a synonym of type is deprecated; in a future version of numpy, it will be understood as (type, (1,)) / '(1,)type'.\n",
      "  _np_quint16 = np.dtype([(\"quint16\", np.uint16, 1)])\n",
      "C:\\Users\\abhin\\anaconda3\\envs\\nlp_course\\lib\\site-packages\\tensorflow\\python\\framework\\dtypes.py:530: FutureWarning: Passing (type, 1) or '1type' as a synonym of type is deprecated; in a future version of numpy, it will be understood as (type, (1,)) / '(1,)type'.\n",
      "  _np_qint32 = np.dtype([(\"qint32\", np.int32, 1)])\n",
      "C:\\Users\\abhin\\anaconda3\\envs\\nlp_course\\lib\\site-packages\\tensorflow\\python\\framework\\dtypes.py:535: FutureWarning: Passing (type, 1) or '1type' as a synonym of type is deprecated; in a future version of numpy, it will be understood as (type, (1,)) / '(1,)type'.\n",
      "  np_resource = np.dtype([(\"resource\", np.ubyte, 1)])\n"
     ]
    }
   ],
   "source": [
    "from tensorflow.keras.models import Sequential\n",
    "from tensorflow.keras.layers import Dense, LSTM, Dropout"
   ]
  },
  {
   "cell_type": "code",
   "execution_count": 26,
   "id": "e2f4f352",
   "metadata": {},
   "outputs": [
    {
     "name": "stdout",
     "output_type": "stream",
     "text": [
      "WARNING:tensorflow:From C:\\Users\\abhin\\anaconda3\\envs\\nlp_course\\lib\\site-packages\\tensorflow\\python\\ops\\resource_variable_ops.py:435: colocate_with (from tensorflow.python.framework.ops) is deprecated and will be removed in a future version.\n",
      "Instructions for updating:\n",
      "Colocations handled automatically by placer.\n",
      "WARNING:tensorflow:From C:\\Users\\abhin\\anaconda3\\envs\\nlp_course\\lib\\site-packages\\tensorflow\\python\\keras\\layers\\core.py:143: calling dropout (from tensorflow.python.ops.nn_ops) with keep_prob is deprecated and will be removed in a future version.\n",
      "Instructions for updating:\n",
      "Please use `rate` instead of `keep_prob`. Rate should be set to `rate = 1 - keep_prob`.\n",
      "WARNING:tensorflow:From C:\\Users\\abhin\\anaconda3\\envs\\nlp_course\\lib\\site-packages\\tensorflow\\python\\keras\\utils\\losses_utils.py:170: to_float (from tensorflow.python.ops.math_ops) is deprecated and will be removed in a future version.\n",
      "Instructions for updating:\n",
      "Use tf.cast instead.\n"
     ]
    }
   ],
   "source": [
    "## MODEL BUILDING\n",
    "\n",
    "## initialization\n",
    "regressor = Sequential()\n",
    "\n",
    "## LSTM 1\n",
    "regressor.add(LSTM(units=X_train.shape[1], input_shape=(X_train.shape[1], X_train.shape[2]), return_sequences=True))\n",
    "regressor.add(Dropout(rate=0.2)) ## turns off 20% perceptrons during training to prevent overfitting\n",
    "\n",
    "## LSTM 2\n",
    "regressor.add(LSTM(units=X_train.shape[1], return_sequences=True))\n",
    "regressor.add(Dropout(rate=0.2)) ## turns off 20% perceptrons during training to prevent overfitting\n",
    "\n",
    "## LSTM 3\n",
    "regressor.add(LSTM(units=X_train.shape[1], return_sequences=True))\n",
    "regressor.add(Dropout(rate=0.2)) ## turns off 20% perceptrons during training to prevent overfitting\n",
    "\n",
    "## LSTM 2\n",
    "regressor.add(LSTM(units=X_train.shape[1]))\n",
    "regressor.add(Dropout(rate=0.2)) ## turns off 20% perceptrons during training to prevent overfitting\n",
    "\n",
    "## Output\n",
    "regressor.add(Dense(units=1))\n",
    "\n",
    "## Compile\n",
    "regressor.compile(optimizer='adam', loss='mean_squared_error')"
   ]
  },
  {
   "cell_type": "code",
   "execution_count": 27,
   "id": "77b12cbc",
   "metadata": {},
   "outputs": [
    {
     "name": "stdout",
     "output_type": "stream",
     "text": [
      "Train on 958 samples, validate on 240 samples\n",
      "WARNING:tensorflow:From C:\\Users\\abhin\\anaconda3\\envs\\nlp_course\\lib\\site-packages\\tensorflow\\python\\ops\\math_ops.py:3066: to_int32 (from tensorflow.python.ops.math_ops) is deprecated and will be removed in a future version.\n",
      "Instructions for updating:\n",
      "Use tf.cast instead.\n",
      "Epoch 1/300\n",
      "958/958 [==============================] - 7s 7ms/sample - loss: 0.0673 - val_loss: 0.0076\n",
      "Epoch 2/300\n",
      "958/958 [==============================] - 4s 4ms/sample - loss: 0.0082 - val_loss: 0.0028\n",
      "Epoch 3/300\n",
      "958/958 [==============================] - 4s 4ms/sample - loss: 0.0052 - val_loss: 0.0018\n",
      "Epoch 4/300\n",
      "958/958 [==============================] - 4s 4ms/sample - loss: 0.0047 - val_loss: 0.0019\n",
      "Epoch 5/300\n",
      "958/958 [==============================] - 4s 4ms/sample - loss: 0.0046 - val_loss: 0.0019\n",
      "Epoch 6/300\n",
      "958/958 [==============================] - 4s 4ms/sample - loss: 0.0049 - val_loss: 0.0025\n",
      "Epoch 7/300\n",
      "958/958 [==============================] - 4s 4ms/sample - loss: 0.0048 - val_loss: 0.0025\n",
      "Epoch 8/300\n",
      "958/958 [==============================] - 4s 4ms/sample - loss: 0.0040 - val_loss: 0.0019\n",
      "Epoch 9/300\n",
      "958/958 [==============================] - 4s 4ms/sample - loss: 0.0041 - val_loss: 0.0019\n",
      "Epoch 10/300\n",
      "958/958 [==============================] - 4s 5ms/sample - loss: 0.0043 - val_loss: 0.0016\n",
      "Epoch 11/300\n",
      "958/958 [==============================] - 4s 4ms/sample - loss: 0.0038 - val_loss: 0.0016\n",
      "Epoch 12/300\n",
      "958/958 [==============================] - 4s 4ms/sample - loss: 0.0039 - val_loss: 0.0016\n",
      "Epoch 13/300\n",
      "958/958 [==============================] - 4s 4ms/sample - loss: 0.0038 - val_loss: 0.0017\n",
      "Epoch 14/300\n",
      "958/958 [==============================] - 4s 4ms/sample - loss: 0.0040 - val_loss: 0.0026\n",
      "Epoch 15/300\n",
      "958/958 [==============================] - 4s 4ms/sample - loss: 0.0049 - val_loss: 0.0027\n",
      "Epoch 16/300\n",
      "958/958 [==============================] - 4s 5ms/sample - loss: 0.0039 - val_loss: 0.0017\n",
      "Epoch 17/300\n",
      "958/958 [==============================] - 4s 4ms/sample - loss: 0.0035 - val_loss: 0.0017\n",
      "Epoch 18/300\n",
      "958/958 [==============================] - 4s 4ms/sample - loss: 0.0034 - val_loss: 0.0018\n",
      "Epoch 19/300\n",
      "958/958 [==============================] - 4s 4ms/sample - loss: 0.0036 - val_loss: 0.0024\n",
      "Epoch 20/300\n",
      "958/958 [==============================] - 4s 4ms/sample - loss: 0.0044 - val_loss: 0.0024\n",
      "Epoch 21/300\n",
      "958/958 [==============================] - 4s 4ms/sample - loss: 0.0042 - val_loss: 0.0021\n",
      "Epoch 22/300\n",
      "958/958 [==============================] - 4s 4ms/sample - loss: 0.0037 - val_loss: 0.0013\n",
      "Epoch 23/300\n",
      "958/958 [==============================] - 4s 4ms/sample - loss: 0.0036 - val_loss: 0.0017\n",
      "Epoch 24/300\n",
      "958/958 [==============================] - 4s 4ms/sample - loss: 0.0039 - val_loss: 0.0014\n",
      "Epoch 25/300\n",
      "958/958 [==============================] - 4s 4ms/sample - loss: 0.0048 - val_loss: 0.0012\n",
      "Epoch 26/300\n",
      "958/958 [==============================] - 4s 4ms/sample - loss: 0.0033 - val_loss: 0.0014\n",
      "Epoch 27/300\n",
      "958/958 [==============================] - 4s 4ms/sample - loss: 0.0029 - val_loss: 0.0012\n",
      "Epoch 28/300\n",
      "958/958 [==============================] - 4s 4ms/sample - loss: 0.0031 - val_loss: 0.0013\n",
      "Epoch 29/300\n",
      "958/958 [==============================] - 4s 4ms/sample - loss: 0.0031 - val_loss: 0.0014\n",
      "Epoch 30/300\n",
      "958/958 [==============================] - 4s 4ms/sample - loss: 0.0030 - val_loss: 0.0011\n",
      "Epoch 31/300\n",
      "958/958 [==============================] - 4s 4ms/sample - loss: 0.0032 - val_loss: 0.0013\n",
      "Epoch 32/300\n",
      "958/958 [==============================] - 4s 4ms/sample - loss: 0.0027 - val_loss: 0.0011\n",
      "Epoch 33/300\n",
      "958/958 [==============================] - 4s 4ms/sample - loss: 0.0030 - val_loss: 0.0011\n",
      "Epoch 34/300\n",
      "958/958 [==============================] - 4s 4ms/sample - loss: 0.0030 - val_loss: 0.0013\n",
      "Epoch 35/300\n",
      "958/958 [==============================] - 4s 4ms/sample - loss: 0.0027 - val_loss: 0.0012\n",
      "Epoch 36/300\n",
      "958/958 [==============================] - 4s 4ms/sample - loss: 0.0028 - val_loss: 0.0013\n",
      "Epoch 37/300\n",
      "958/958 [==============================] - 4s 4ms/sample - loss: 0.0028 - val_loss: 0.0019\n",
      "Epoch 38/300\n",
      "958/958 [==============================] - 4s 4ms/sample - loss: 0.0033 - val_loss: 0.0042\n",
      "Epoch 39/300\n",
      "958/958 [==============================] - 4s 4ms/sample - loss: 0.0035 - val_loss: 0.0019\n",
      "Epoch 40/300\n",
      "958/958 [==============================] - 4s 4ms/sample - loss: 0.0027 - val_loss: 0.0011\n",
      "Epoch 41/300\n",
      "958/958 [==============================] - 5s 5ms/sample - loss: 0.0029 - val_loss: 0.0010\n",
      "Epoch 42/300\n",
      "958/958 [==============================] - 4s 4ms/sample - loss: 0.0026 - val_loss: 0.0012\n",
      "Epoch 43/300\n",
      "958/958 [==============================] - 4s 4ms/sample - loss: 0.0025 - val_loss: 0.0012\n",
      "Epoch 44/300\n",
      "958/958 [==============================] - 4s 4ms/sample - loss: 0.0025 - val_loss: 0.0016\n",
      "Epoch 45/300\n",
      "958/958 [==============================] - 4s 4ms/sample - loss: 0.0027 - val_loss: 0.0021\n",
      "Epoch 46/300\n",
      "958/958 [==============================] - 4s 4ms/sample - loss: 0.0025 - val_loss: 0.0010\n",
      "Epoch 47/300\n",
      "958/958 [==============================] - 4s 4ms/sample - loss: 0.0026 - val_loss: 0.0010\n",
      "Epoch 48/300\n",
      "958/958 [==============================] - 4s 4ms/sample - loss: 0.0029 - val_loss: 0.0018\n",
      "Epoch 49/300\n",
      "958/958 [==============================] - 4s 4ms/sample - loss: 0.0028 - val_loss: 0.0013\n",
      "Epoch 50/300\n",
      "958/958 [==============================] - 4s 4ms/sample - loss: 0.0028 - val_loss: 0.0011\n",
      "Epoch 51/300\n",
      "958/958 [==============================] - 4s 4ms/sample - loss: 0.0023 - val_loss: 0.0011\n",
      "Epoch 52/300\n",
      "958/958 [==============================] - 4s 4ms/sample - loss: 0.0023 - val_loss: 9.1835e-04\n",
      "Epoch 53/300\n",
      "958/958 [==============================] - 4s 4ms/sample - loss: 0.0022 - val_loss: 0.0011\n",
      "Epoch 54/300\n",
      "958/958 [==============================] - 4s 4ms/sample - loss: 0.0025 - val_loss: 0.0010\n",
      "Epoch 55/300\n",
      "958/958 [==============================] - 4s 4ms/sample - loss: 0.0022 - val_loss: 0.0010\n",
      "Epoch 56/300\n",
      "958/958 [==============================] - 4s 4ms/sample - loss: 0.0022 - val_loss: 9.4153e-04\n",
      "Epoch 57/300\n",
      "958/958 [==============================] - 4s 5ms/sample - loss: 0.0022 - val_loss: 8.8514e-04\n",
      "Epoch 58/300\n",
      "958/958 [==============================] - 5s 6ms/sample - loss: 0.0022 - val_loss: 8.9686e-04\n",
      "Epoch 59/300\n",
      "958/958 [==============================] - 5s 5ms/sample - loss: 0.0023 - val_loss: 9.5283e-04\n",
      "Epoch 60/300\n",
      "958/958 [==============================] - 5s 5ms/sample - loss: 0.0028 - val_loss: 9.0344e-04\n",
      "Epoch 61/300\n",
      "958/958 [==============================] - 5s 5ms/sample - loss: 0.0023 - val_loss: 0.0010\n",
      "Epoch 62/300\n",
      "958/958 [==============================] - 5s 5ms/sample - loss: 0.0020 - val_loss: 0.0011\n",
      "Epoch 63/300\n",
      "958/958 [==============================] - 5s 5ms/sample - loss: 0.0022 - val_loss: 0.0011\n",
      "Epoch 64/300\n",
      "958/958 [==============================] - 5s 5ms/sample - loss: 0.0023 - val_loss: 0.0011\n",
      "Epoch 65/300\n",
      "958/958 [==============================] - 5s 5ms/sample - loss: 0.0019 - val_loss: 0.0012\n",
      "Epoch 66/300\n",
      "958/958 [==============================] - 5s 5ms/sample - loss: 0.0019 - val_loss: 8.1938e-04\n",
      "Epoch 67/300\n",
      "958/958 [==============================] - 5s 5ms/sample - loss: 0.0020 - val_loss: 8.6996e-04\n",
      "Epoch 68/300\n",
      "958/958 [==============================] - 5s 5ms/sample - loss: 0.0018 - val_loss: 8.3336e-04\n",
      "Epoch 69/300\n",
      "958/958 [==============================] - 5s 5ms/sample - loss: 0.0020 - val_loss: 7.4885e-04\n",
      "Epoch 70/300\n",
      "958/958 [==============================] - 5s 5ms/sample - loss: 0.0020 - val_loss: 7.7266e-04\n",
      "Epoch 71/300\n",
      "958/958 [==============================] - 5s 5ms/sample - loss: 0.0024 - val_loss: 9.8731e-04\n",
      "Epoch 72/300\n",
      "958/958 [==============================] - 5s 5ms/sample - loss: 0.0019 - val_loss: 8.7840e-04\n",
      "Epoch 73/300\n",
      "958/958 [==============================] - 5s 5ms/sample - loss: 0.0018 - val_loss: 7.7345e-04\n",
      "Epoch 74/300\n",
      "958/958 [==============================] - 5s 5ms/sample - loss: 0.0019 - val_loss: 8.7055e-04\n",
      "Epoch 75/300\n",
      "958/958 [==============================] - 5s 5ms/sample - loss: 0.0020 - val_loss: 7.5248e-04\n",
      "Epoch 76/300\n"
     ]
    },
    {
     "name": "stdout",
     "output_type": "stream",
     "text": [
      "958/958 [==============================] - 4s 4ms/sample - loss: 0.0017 - val_loss: 8.4973e-04\n",
      "Epoch 77/300\n",
      "958/958 [==============================] - 5s 5ms/sample - loss: 0.0018 - val_loss: 8.5351e-04\n",
      "Epoch 78/300\n",
      "958/958 [==============================] - 5s 5ms/sample - loss: 0.0018 - val_loss: 6.8422e-04\n",
      "Epoch 79/300\n",
      "958/958 [==============================] - 4s 5ms/sample - loss: 0.0018 - val_loss: 8.4852e-04\n",
      "Epoch 80/300\n",
      "958/958 [==============================] - 4s 4ms/sample - loss: 0.0018 - val_loss: 6.7832e-04\n",
      "Epoch 81/300\n",
      "958/958 [==============================] - 4s 4ms/sample - loss: 0.0019 - val_loss: 0.0011\n",
      "Epoch 82/300\n",
      "958/958 [==============================] - 4s 4ms/sample - loss: 0.0019 - val_loss: 6.6219e-04\n",
      "Epoch 83/300\n",
      "958/958 [==============================] - 4s 4ms/sample - loss: 0.0017 - val_loss: 6.9972e-04\n",
      "Epoch 84/300\n",
      "958/958 [==============================] - 5s 5ms/sample - loss: 0.0020 - val_loss: 7.0944e-04\n",
      "Epoch 85/300\n",
      "958/958 [==============================] - 5s 5ms/sample - loss: 0.0019 - val_loss: 7.0527e-04\n",
      "Epoch 86/300\n",
      "958/958 [==============================] - 5s 5ms/sample - loss: 0.0020 - val_loss: 6.5113e-04\n",
      "Epoch 87/300\n",
      "958/958 [==============================] - 4s 5ms/sample - loss: 0.0017 - val_loss: 6.4676e-04\n",
      "Epoch 88/300\n",
      "958/958 [==============================] - 5s 5ms/sample - loss: 0.0016 - val_loss: 7.3281e-04\n",
      "Epoch 89/300\n",
      "958/958 [==============================] - 5s 5ms/sample - loss: 0.0016 - val_loss: 6.2166e-04\n",
      "Epoch 90/300\n",
      "958/958 [==============================] - 5s 5ms/sample - loss: 0.0018 - val_loss: 7.8962e-04\n",
      "Epoch 91/300\n",
      "958/958 [==============================] - 4s 5ms/sample - loss: 0.0020 - val_loss: 6.6845e-04\n",
      "Epoch 92/300\n",
      "958/958 [==============================] - 4s 5ms/sample - loss: 0.0018 - val_loss: 6.0315e-04\n",
      "Epoch 93/300\n",
      "958/958 [==============================] - 4s 4ms/sample - loss: 0.0016 - val_loss: 8.1835e-04\n",
      "Epoch 94/300\n",
      "958/958 [==============================] - 4s 4ms/sample - loss: 0.0015 - val_loss: 6.1452e-04\n",
      "Epoch 95/300\n",
      "958/958 [==============================] - 4s 4ms/sample - loss: 0.0017 - val_loss: 7.0172e-04\n",
      "Epoch 96/300\n",
      "958/958 [==============================] - 4s 4ms/sample - loss: 0.0014 - val_loss: 5.7066e-04\n",
      "Epoch 97/300\n",
      "958/958 [==============================] - 4s 4ms/sample - loss: 0.0017 - val_loss: 5.8914e-04\n",
      "Epoch 98/300\n",
      "958/958 [==============================] - 4s 4ms/sample - loss: 0.0018 - val_loss: 5.4860e-04\n",
      "Epoch 99/300\n",
      "958/958 [==============================] - 4s 4ms/sample - loss: 0.0015 - val_loss: 5.7564e-04\n",
      "Epoch 100/300\n",
      "958/958 [==============================] - 4s 4ms/sample - loss: 0.0015 - val_loss: 5.6384e-04\n",
      "Epoch 101/300\n",
      "958/958 [==============================] - 4s 4ms/sample - loss: 0.0016 - val_loss: 7.6155e-04\n",
      "Epoch 102/300\n",
      "958/958 [==============================] - 4s 4ms/sample - loss: 0.0016 - val_loss: 7.7890e-04\n",
      "Epoch 103/300\n",
      "958/958 [==============================] - 4s 4ms/sample - loss: 0.0014 - val_loss: 5.3276e-04\n",
      "Epoch 104/300\n",
      "958/958 [==============================] - 4s 5ms/sample - loss: 0.0014 - val_loss: 6.3333e-04\n",
      "Epoch 105/300\n",
      "958/958 [==============================] - 5s 5ms/sample - loss: 0.0015 - val_loss: 5.7833e-04\n",
      "Epoch 106/300\n",
      "958/958 [==============================] - 5s 5ms/sample - loss: 0.0015 - val_loss: 6.7523e-04\n",
      "Epoch 107/300\n",
      "958/958 [==============================] - 4s 5ms/sample - loss: 0.0014 - val_loss: 6.0483e-04\n",
      "Epoch 108/300\n",
      "958/958 [==============================] - 5s 5ms/sample - loss: 0.0013 - val_loss: 5.3528e-04\n",
      "Epoch 109/300\n",
      "958/958 [==============================] - 5s 5ms/sample - loss: 0.0013 - val_loss: 4.9500e-04\n",
      "Epoch 110/300\n",
      "958/958 [==============================] - 5s 5ms/sample - loss: 0.0016 - val_loss: 4.8994e-04\n",
      "Epoch 111/300\n",
      "958/958 [==============================] - 5s 5ms/sample - loss: 0.0016 - val_loss: 6.9531e-04\n",
      "Epoch 112/300\n",
      "958/958 [==============================] - 5s 5ms/sample - loss: 0.0013 - val_loss: 4.8957e-04\n",
      "Epoch 113/300\n",
      "958/958 [==============================] - 5s 5ms/sample - loss: 0.0013 - val_loss: 6.4463e-04\n",
      "Epoch 114/300\n",
      "958/958 [==============================] - 5s 5ms/sample - loss: 0.0017 - val_loss: 7.1820e-04\n",
      "Epoch 115/300\n",
      "958/958 [==============================] - 4s 4ms/sample - loss: 0.0014 - val_loss: 9.4376e-04\n",
      "Epoch 116/300\n",
      "958/958 [==============================] - 4s 4ms/sample - loss: 0.0017 - val_loss: 5.3343e-04\n",
      "Epoch 117/300\n",
      "958/958 [==============================] - 4s 5ms/sample - loss: 0.0014 - val_loss: 6.6765e-04\n",
      "Epoch 118/300\n",
      "958/958 [==============================] - 4s 4ms/sample - loss: 0.0015 - val_loss: 6.0170e-04\n",
      "Epoch 119/300\n",
      "958/958 [==============================] - 4s 4ms/sample - loss: 0.0013 - val_loss: 4.9804e-04\n",
      "Epoch 120/300\n",
      "958/958 [==============================] - 4s 4ms/sample - loss: 0.0012 - val_loss: 7.1202e-04\n",
      "Epoch 121/300\n",
      "958/958 [==============================] - 4s 4ms/sample - loss: 0.0015 - val_loss: 4.6168e-04\n",
      "Epoch 122/300\n",
      "958/958 [==============================] - 4s 4ms/sample - loss: 0.0012 - val_loss: 4.2793e-04\n",
      "Epoch 123/300\n",
      "958/958 [==============================] - 4s 4ms/sample - loss: 0.0013 - val_loss: 5.7828e-04\n",
      "Epoch 124/300\n",
      "958/958 [==============================] - 4s 4ms/sample - loss: 0.0012 - val_loss: 6.7190e-04\n",
      "Epoch 125/300\n",
      "958/958 [==============================] - 4s 4ms/sample - loss: 0.0012 - val_loss: 5.2306e-04\n",
      "Epoch 126/300\n",
      "958/958 [==============================] - 4s 4ms/sample - loss: 0.0014 - val_loss: 4.8303e-04\n",
      "Epoch 127/300\n",
      "958/958 [==============================] - 4s 4ms/sample - loss: 0.0012 - val_loss: 5.1638e-04\n",
      "Epoch 128/300\n",
      "958/958 [==============================] - 4s 4ms/sample - loss: 0.0013 - val_loss: 4.1048e-04\n",
      "Epoch 129/300\n",
      "958/958 [==============================] - 4s 4ms/sample - loss: 0.0011 - val_loss: 5.4034e-04\n",
      "Epoch 130/300\n",
      "958/958 [==============================] - 4s 5ms/sample - loss: 0.0011 - val_loss: 5.8183e-04\n",
      "Epoch 131/300\n",
      "958/958 [==============================] - 4s 4ms/sample - loss: 0.0012 - val_loss: 6.0402e-04\n",
      "Epoch 132/300\n",
      "958/958 [==============================] - 4s 4ms/sample - loss: 0.0012 - val_loss: 5.7966e-04\n",
      "Epoch 133/300\n",
      "958/958 [==============================] - 4s 4ms/sample - loss: 0.0013 - val_loss: 4.1267e-04\n",
      "Epoch 134/300\n",
      "958/958 [==============================] - 4s 4ms/sample - loss: 0.0012 - val_loss: 6.2661e-04\n",
      "Epoch 135/300\n",
      "958/958 [==============================] - 4s 4ms/sample - loss: 0.0013 - val_loss: 5.3297e-04\n",
      "Epoch 136/300\n",
      "958/958 [==============================] - 4s 4ms/sample - loss: 0.0012 - val_loss: 5.8876e-04\n",
      "Epoch 137/300\n",
      "958/958 [==============================] - 4s 4ms/sample - loss: 0.0013 - val_loss: 5.6073e-04\n",
      "Epoch 138/300\n",
      "958/958 [==============================] - 4s 4ms/sample - loss: 0.0012 - val_loss: 3.8309e-04\n",
      "Epoch 139/300\n",
      "958/958 [==============================] - 4s 4ms/sample - loss: 0.0011 - val_loss: 8.0769e-04\n",
      "Epoch 140/300\n",
      "958/958 [==============================] - 4s 4ms/sample - loss: 0.0013 - val_loss: 4.3247e-04\n",
      "Epoch 141/300\n",
      "958/958 [==============================] - 4s 4ms/sample - loss: 0.0012 - val_loss: 6.4349e-04\n",
      "Epoch 142/300\n",
      "958/958 [==============================] - 4s 4ms/sample - loss: 0.0011 - val_loss: 3.9590e-04\n",
      "Epoch 143/300\n",
      "958/958 [==============================] - 4s 4ms/sample - loss: 0.0011 - val_loss: 4.2094e-04\n",
      "Epoch 144/300\n",
      "958/958 [==============================] - 4s 4ms/sample - loss: 0.0011 - val_loss: 4.8902e-04\n",
      "Epoch 145/300\n",
      "958/958 [==============================] - 4s 4ms/sample - loss: 0.0012 - val_loss: 6.8563e-04\n",
      "Epoch 146/300\n",
      "958/958 [==============================] - 4s 5ms/sample - loss: 0.0013 - val_loss: 4.0348e-04\n",
      "Epoch 147/300\n",
      "958/958 [==============================] - 4s 5ms/sample - loss: 0.0014 - val_loss: 7.7281e-04\n",
      "Epoch 148/300\n",
      "958/958 [==============================] - 4s 4ms/sample - loss: 0.0010 - val_loss: 5.4964e-04\n",
      "Epoch 149/300\n",
      "958/958 [==============================] - 4s 4ms/sample - loss: 0.0012 - val_loss: 3.7209e-04\n",
      "Epoch 150/300\n",
      "958/958 [==============================] - 4s 4ms/sample - loss: 0.0013 - val_loss: 3.3359e-04\n",
      "Epoch 151/300\n"
     ]
    },
    {
     "name": "stdout",
     "output_type": "stream",
     "text": [
      "958/958 [==============================] - 4s 5ms/sample - loss: 0.0010 - val_loss: 3.3702e-04\n",
      "Epoch 152/300\n",
      "958/958 [==============================] - 4s 4ms/sample - loss: 0.0011 - val_loss: 4.7987e-04\n",
      "Epoch 153/300\n",
      "958/958 [==============================] - 4s 5ms/sample - loss: 0.0012 - val_loss: 4.2627e-04\n",
      "Epoch 154/300\n",
      "958/958 [==============================] - 4s 4ms/sample - loss: 0.0015 - val_loss: 3.5553e-04\n",
      "Epoch 155/300\n",
      "958/958 [==============================] - 4s 4ms/sample - loss: 0.0012 - val_loss: 7.1175e-04\n",
      "Epoch 156/300\n",
      "958/958 [==============================] - 4s 4ms/sample - loss: 0.0011 - val_loss: 3.4195e-04\n",
      "Epoch 157/300\n",
      "958/958 [==============================] - 4s 4ms/sample - loss: 0.0012 - val_loss: 3.2663e-04\n",
      "Epoch 158/300\n",
      "958/958 [==============================] - 4s 4ms/sample - loss: 0.0011 - val_loss: 5.4996e-04\n",
      "Epoch 159/300\n",
      "958/958 [==============================] - 4s 4ms/sample - loss: 0.0012 - val_loss: 8.8021e-04\n",
      "Epoch 160/300\n",
      "958/958 [==============================] - 4s 4ms/sample - loss: 0.0014 - val_loss: 4.9050e-04\n",
      "Epoch 161/300\n",
      "958/958 [==============================] - 4s 4ms/sample - loss: 0.0011 - val_loss: 4.7974e-04\n",
      "Epoch 162/300\n",
      "958/958 [==============================] - 4s 4ms/sample - loss: 0.0012 - val_loss: 4.7638e-04\n",
      "Epoch 163/300\n",
      "958/958 [==============================] - 4s 4ms/sample - loss: 0.0012 - val_loss: 5.3543e-04\n",
      "Epoch 164/300\n",
      "958/958 [==============================] - 4s 4ms/sample - loss: 0.0012 - val_loss: 5.0016e-04\n",
      "Epoch 165/300\n",
      "958/958 [==============================] - 4s 4ms/sample - loss: 0.0013 - val_loss: 5.9601e-04\n",
      "Epoch 166/300\n",
      "958/958 [==============================] - 4s 4ms/sample - loss: 0.0012 - val_loss: 3.5361e-04\n",
      "Epoch 167/300\n",
      "958/958 [==============================] - 4s 4ms/sample - loss: 0.0011 - val_loss: 5.4632e-04\n",
      "Epoch 168/300\n",
      "958/958 [==============================] - 4s 4ms/sample - loss: 0.0010 - val_loss: 3.5904e-04\n",
      "Epoch 169/300\n",
      "958/958 [==============================] - 4s 4ms/sample - loss: 0.0011 - val_loss: 4.8878e-04\n",
      "Epoch 170/300\n",
      "958/958 [==============================] - 4s 4ms/sample - loss: 0.0012 - val_loss: 7.0161e-04\n",
      "Epoch 171/300\n",
      "958/958 [==============================] - 4s 4ms/sample - loss: 0.0011 - val_loss: 3.7290e-04\n",
      "Epoch 172/300\n",
      "958/958 [==============================] - 4s 4ms/sample - loss: 9.6300e-04 - val_loss: 3.0792e-04\n",
      "Epoch 173/300\n",
      "958/958 [==============================] - 4s 4ms/sample - loss: 0.0011 - val_loss: 3.5666e-04\n",
      "Epoch 174/300\n",
      "958/958 [==============================] - 4s 4ms/sample - loss: 0.0010 - val_loss: 4.1311e-04\n",
      "Epoch 175/300\n",
      "958/958 [==============================] - 4s 4ms/sample - loss: 0.0011 - val_loss: 3.8829e-04\n",
      "Epoch 176/300\n",
      "958/958 [==============================] - 4s 4ms/sample - loss: 9.9338e-04 - val_loss: 4.3267e-04\n",
      "Epoch 177/300\n",
      "958/958 [==============================] - 4s 4ms/sample - loss: 9.2535e-04 - val_loss: 3.9996e-04\n",
      "Epoch 178/300\n",
      "958/958 [==============================] - 5s 5ms/sample - loss: 0.0010 - val_loss: 3.7096e-04\n",
      "Epoch 179/300\n",
      "958/958 [==============================] - 4s 4ms/sample - loss: 9.7286e-04 - val_loss: 2.9685e-04\n",
      "Epoch 180/300\n",
      "958/958 [==============================] - 4s 4ms/sample - loss: 0.0010 - val_loss: 3.4668e-04\n",
      "Epoch 181/300\n",
      "958/958 [==============================] - 4s 4ms/sample - loss: 0.0011 - val_loss: 3.1515e-04\n",
      "Epoch 182/300\n",
      "958/958 [==============================] - 4s 4ms/sample - loss: 0.0010 - val_loss: 5.4041e-04\n",
      "Epoch 183/300\n",
      "958/958 [==============================] - 4s 4ms/sample - loss: 9.2362e-04 - val_loss: 3.1337e-04\n",
      "Epoch 184/300\n",
      "958/958 [==============================] - 4s 4ms/sample - loss: 9.5407e-04 - val_loss: 3.0572e-04\n",
      "Epoch 185/300\n",
      "958/958 [==============================] - 4s 4ms/sample - loss: 9.7968e-04 - val_loss: 3.0632e-04\n",
      "Epoch 186/300\n",
      "958/958 [==============================] - 4s 4ms/sample - loss: 0.0011 - val_loss: 4.7212e-04\n",
      "Epoch 187/300\n",
      "958/958 [==============================] - 4s 4ms/sample - loss: 0.0011 - val_loss: 4.9888e-04\n",
      "Epoch 188/300\n",
      "958/958 [==============================] - 4s 4ms/sample - loss: 0.0010 - val_loss: 2.9905e-04\n",
      "Epoch 189/300\n",
      "958/958 [==============================] - 4s 4ms/sample - loss: 0.0010 - val_loss: 4.5563e-04\n",
      "Epoch 190/300\n",
      "958/958 [==============================] - 4s 4ms/sample - loss: 9.3726e-04 - val_loss: 3.4846e-04\n",
      "Epoch 191/300\n",
      "958/958 [==============================] - 4s 4ms/sample - loss: 9.4826e-04 - val_loss: 4.2806e-04\n",
      "Epoch 192/300\n",
      "958/958 [==============================] - 4s 4ms/sample - loss: 0.0011 - val_loss: 4.0396e-04\n",
      "Epoch 193/300\n",
      "958/958 [==============================] - 4s 4ms/sample - loss: 9.4522e-04 - val_loss: 5.1951e-04\n",
      "Epoch 194/300\n",
      "958/958 [==============================] - 4s 4ms/sample - loss: 9.7731e-04 - val_loss: 3.4027e-04\n",
      "Epoch 195/300\n",
      "958/958 [==============================] - 4s 4ms/sample - loss: 0.0011 - val_loss: 4.1592e-04\n",
      "Epoch 196/300\n",
      "958/958 [==============================] - 4s 4ms/sample - loss: 0.0010 - val_loss: 3.1440e-04\n",
      "Epoch 197/300\n",
      "958/958 [==============================] - 4s 4ms/sample - loss: 0.0012 - val_loss: 0.0015\n",
      "Epoch 198/300\n",
      "958/958 [==============================] - 4s 4ms/sample - loss: 0.0011 - val_loss: 4.2704e-04\n",
      "Epoch 199/300\n",
      "958/958 [==============================] - 4s 4ms/sample - loss: 9.9355e-04 - val_loss: 5.4964e-04\n",
      "Epoch 200/300\n",
      "958/958 [==============================] - 4s 4ms/sample - loss: 8.9771e-04 - val_loss: 3.0614e-04\n",
      "Epoch 201/300\n",
      "958/958 [==============================] - 4s 4ms/sample - loss: 9.8717e-04 - val_loss: 4.2948e-04\n",
      "Epoch 202/300\n",
      "958/958 [==============================] - 4s 4ms/sample - loss: 9.7538e-04 - val_loss: 2.7171e-04\n",
      "Epoch 203/300\n",
      "958/958 [==============================] - 4s 4ms/sample - loss: 9.4398e-04 - val_loss: 4.5037e-04\n",
      "Epoch 204/300\n",
      "958/958 [==============================] - 4s 4ms/sample - loss: 0.0011 - val_loss: 2.8284e-04\n",
      "Epoch 205/300\n",
      "958/958 [==============================] - 4s 4ms/sample - loss: 9.3373e-04 - val_loss: 6.1029e-04\n",
      "Epoch 206/300\n",
      "958/958 [==============================] - 4s 4ms/sample - loss: 9.6151e-04 - val_loss: 2.7244e-04\n",
      "Epoch 207/300\n",
      "958/958 [==============================] - 4s 4ms/sample - loss: 9.8748e-04 - val_loss: 5.0670e-04\n",
      "Epoch 208/300\n",
      "958/958 [==============================] - 4s 4ms/sample - loss: 9.8090e-04 - val_loss: 3.1179e-04\n",
      "Epoch 209/300\n",
      "958/958 [==============================] - 4s 4ms/sample - loss: 8.7948e-04 - val_loss: 3.2797e-04\n",
      "Epoch 210/300\n",
      "958/958 [==============================] - 4s 4ms/sample - loss: 0.0010 - val_loss: 5.0359e-04\n",
      "Epoch 211/300\n",
      "958/958 [==============================] - 4s 4ms/sample - loss: 8.9718e-04 - val_loss: 5.7092e-04\n",
      "Epoch 212/300\n",
      "958/958 [==============================] - 4s 4ms/sample - loss: 0.0010 - val_loss: 2.9065e-04\n",
      "Epoch 213/300\n",
      "958/958 [==============================] - 4s 4ms/sample - loss: 9.4388e-04 - val_loss: 3.0433e-04\n",
      "Epoch 214/300\n",
      "958/958 [==============================] - 4s 4ms/sample - loss: 0.0011 - val_loss: 4.7409e-04\n",
      "Epoch 215/300\n",
      "958/958 [==============================] - 4s 4ms/sample - loss: 0.0010 - val_loss: 4.1177e-04\n",
      "Epoch 216/300\n",
      "958/958 [==============================] - 4s 4ms/sample - loss: 8.9980e-04 - val_loss: 2.6463e-04\n",
      "Epoch 217/300\n",
      "958/958 [==============================] - 4s 4ms/sample - loss: 9.2096e-04 - val_loss: 3.1702e-04\n",
      "Epoch 218/300\n",
      "958/958 [==============================] - 4s 5ms/sample - loss: 9.7054e-04 - val_loss: 3.6949e-04\n",
      "Epoch 219/300\n",
      "958/958 [==============================] - 4s 4ms/sample - loss: 9.9008e-04 - val_loss: 2.8359e-04\n",
      "Epoch 220/300\n",
      "958/958 [==============================] - 4s 4ms/sample - loss: 9.4998e-04 - val_loss: 3.2155e-04\n",
      "Epoch 221/300\n",
      "958/958 [==============================] - 4s 4ms/sample - loss: 9.8551e-04 - val_loss: 3.0603e-04\n",
      "Epoch 222/300\n",
      "958/958 [==============================] - 4s 4ms/sample - loss: 9.1534e-04 - val_loss: 3.4241e-04\n",
      "Epoch 223/300\n",
      "958/958 [==============================] - 4s 4ms/sample - loss: 9.1249e-04 - val_loss: 3.1087e-04\n",
      "Epoch 224/300\n",
      "958/958 [==============================] - 4s 4ms/sample - loss: 0.0010 - val_loss: 5.4908e-04\n",
      "Epoch 225/300\n"
     ]
    },
    {
     "name": "stdout",
     "output_type": "stream",
     "text": [
      "958/958 [==============================] - 4s 4ms/sample - loss: 9.6534e-04 - val_loss: 4.1101e-04\n",
      "Epoch 226/300\n",
      "958/958 [==============================] - 4s 4ms/sample - loss: 0.0010 - val_loss: 4.4852e-04\n",
      "Epoch 227/300\n",
      "958/958 [==============================] - 4s 4ms/sample - loss: 8.3876e-04 - val_loss: 2.7458e-04\n",
      "Epoch 228/300\n",
      "958/958 [==============================] - 4s 4ms/sample - loss: 9.9236e-04 - val_loss: 4.3824e-04\n",
      "Epoch 229/300\n",
      "958/958 [==============================] - 4s 4ms/sample - loss: 9.8576e-04 - val_loss: 3.3025e-04\n",
      "Epoch 230/300\n",
      "958/958 [==============================] - 4s 4ms/sample - loss: 9.4009e-04 - val_loss: 5.2019e-04\n",
      "Epoch 231/300\n",
      "958/958 [==============================] - 4s 4ms/sample - loss: 9.6947e-04 - val_loss: 2.4821e-04\n",
      "Epoch 232/300\n",
      "958/958 [==============================] - 4s 4ms/sample - loss: 9.1167e-04 - val_loss: 4.1319e-04\n",
      "Epoch 233/300\n",
      "958/958 [==============================] - 4s 4ms/sample - loss: 9.4002e-04 - val_loss: 3.3004e-04\n",
      "Epoch 234/300\n",
      "958/958 [==============================] - 4s 4ms/sample - loss: 8.1094e-04 - val_loss: 3.1417e-04\n",
      "Epoch 235/300\n",
      "958/958 [==============================] - 4s 4ms/sample - loss: 8.0461e-04 - val_loss: 3.2117e-04\n",
      "Epoch 236/300\n",
      "958/958 [==============================] - 4s 4ms/sample - loss: 8.4031e-04 - val_loss: 2.7128e-04\n",
      "Epoch 237/300\n",
      "958/958 [==============================] - 4s 4ms/sample - loss: 0.0010 - val_loss: 2.8848e-04\n",
      "Epoch 238/300\n",
      "958/958 [==============================] - 4s 4ms/sample - loss: 8.4047e-04 - val_loss: 4.7105e-04\n",
      "Epoch 239/300\n",
      "958/958 [==============================] - 4s 4ms/sample - loss: 8.7759e-04 - val_loss: 2.7156e-04\n",
      "Epoch 240/300\n",
      "958/958 [==============================] - 4s 4ms/sample - loss: 8.8052e-04 - val_loss: 2.9843e-04\n",
      "Epoch 241/300\n",
      "958/958 [==============================] - 4s 4ms/sample - loss: 9.7858e-04 - val_loss: 4.4642e-04\n",
      "Epoch 242/300\n",
      "958/958 [==============================] - 4s 4ms/sample - loss: 9.6666e-04 - val_loss: 2.4789e-04\n",
      "Epoch 243/300\n",
      "958/958 [==============================] - 4s 4ms/sample - loss: 8.8212e-04 - val_loss: 6.1312e-04\n",
      "Epoch 244/300\n",
      "958/958 [==============================] - 4s 4ms/sample - loss: 9.1348e-04 - val_loss: 2.8288e-04\n",
      "Epoch 245/300\n",
      "958/958 [==============================] - 4s 4ms/sample - loss: 9.4262e-04 - val_loss: 2.5574e-04\n",
      "Epoch 246/300\n",
      "958/958 [==============================] - 4s 4ms/sample - loss: 8.1350e-04 - val_loss: 2.8747e-04\n",
      "Epoch 247/300\n",
      "958/958 [==============================] - 5s 5ms/sample - loss: 8.5717e-04 - val_loss: 2.8677e-04\n",
      "Epoch 248/300\n",
      "958/958 [==============================] - 4s 4ms/sample - loss: 8.6064e-04 - val_loss: 2.4927e-04\n",
      "Epoch 249/300\n",
      "958/958 [==============================] - 4s 5ms/sample - loss: 9.0373e-04 - val_loss: 8.7608e-04\n",
      "Epoch 250/300\n",
      "958/958 [==============================] - 4s 5ms/sample - loss: 8.1212e-04 - val_loss: 3.2856e-04\n",
      "Epoch 251/300\n",
      "958/958 [==============================] - 4s 4ms/sample - loss: 8.1328e-04 - val_loss: 3.6083e-04\n",
      "Epoch 252/300\n",
      "958/958 [==============================] - 4s 4ms/sample - loss: 9.6909e-04 - val_loss: 7.7937e-04\n",
      "Epoch 253/300\n",
      "958/958 [==============================] - 4s 4ms/sample - loss: 9.4478e-04 - val_loss: 2.9761e-04\n",
      "Epoch 254/300\n",
      "958/958 [==============================] - 4s 4ms/sample - loss: 9.1078e-04 - val_loss: 3.0855e-04\n",
      "Epoch 255/300\n",
      "958/958 [==============================] - 4s 4ms/sample - loss: 7.8808e-04 - val_loss: 5.3911e-04\n",
      "Epoch 256/300\n",
      "958/958 [==============================] - 4s 4ms/sample - loss: 9.1316e-04 - val_loss: 4.3648e-04\n",
      "Epoch 257/300\n",
      "958/958 [==============================] - 4s 4ms/sample - loss: 8.6480e-04 - val_loss: 2.4904e-04\n",
      "Epoch 258/300\n",
      "958/958 [==============================] - 4s 4ms/sample - loss: 8.4667e-04 - val_loss: 3.8274e-04\n",
      "Epoch 259/300\n",
      "958/958 [==============================] - 4s 4ms/sample - loss: 8.7913e-04 - val_loss: 2.9296e-04\n",
      "Epoch 260/300\n",
      "958/958 [==============================] - 4s 4ms/sample - loss: 8.5517e-04 - val_loss: 3.3604e-04\n",
      "Epoch 261/300\n",
      "958/958 [==============================] - 4s 4ms/sample - loss: 7.8192e-04 - val_loss: 3.6298e-04\n",
      "Epoch 262/300\n",
      "958/958 [==============================] - 4s 4ms/sample - loss: 0.0010 - val_loss: 3.2782e-04\n",
      "Epoch 263/300\n",
      "958/958 [==============================] - 4s 4ms/sample - loss: 9.1159e-04 - val_loss: 2.7729e-04\n",
      "Epoch 264/300\n",
      "958/958 [==============================] - 4s 4ms/sample - loss: 0.0010 - val_loss: 9.9184e-04\n",
      "Epoch 265/300\n",
      "958/958 [==============================] - 4s 4ms/sample - loss: 0.0011 - val_loss: 6.3824e-04\n",
      "Epoch 266/300\n",
      "958/958 [==============================] - 4s 4ms/sample - loss: 9.1288e-04 - val_loss: 2.4525e-04\n",
      "Epoch 267/300\n",
      "958/958 [==============================] - 4s 4ms/sample - loss: 9.1917e-04 - val_loss: 5.5014e-04\n",
      "Epoch 268/300\n",
      "958/958 [==============================] - 5s 5ms/sample - loss: 9.8279e-04 - val_loss: 2.6134e-04\n",
      "Epoch 269/300\n",
      "958/958 [==============================] - 4s 5ms/sample - loss: 9.2543e-04 - val_loss: 4.1542e-04\n",
      "Epoch 270/300\n",
      "958/958 [==============================] - 4s 4ms/sample - loss: 8.3924e-04 - val_loss: 4.4119e-04\n",
      "Epoch 271/300\n",
      "958/958 [==============================] - 4s 4ms/sample - loss: 9.4352e-04 - val_loss: 7.7474e-04\n",
      "Epoch 272/300\n",
      "958/958 [==============================] - 4s 4ms/sample - loss: 8.7767e-04 - val_loss: 4.6116e-04\n",
      "Epoch 273/300\n",
      "958/958 [==============================] - 4s 4ms/sample - loss: 7.8366e-04 - val_loss: 2.8218e-04\n",
      "Epoch 274/300\n",
      "958/958 [==============================] - 4s 4ms/sample - loss: 8.4685e-04 - val_loss: 3.9417e-04\n",
      "Epoch 275/300\n",
      "958/958 [==============================] - 4s 4ms/sample - loss: 8.2111e-04 - val_loss: 2.8643e-04\n",
      "Epoch 276/300\n",
      "958/958 [==============================] - 4s 4ms/sample - loss: 7.8849e-04 - val_loss: 3.0752e-04\n",
      "Epoch 277/300\n",
      "958/958 [==============================] - 4s 4ms/sample - loss: 9.6021e-04 - val_loss: 4.3885e-04\n",
      "Epoch 278/300\n",
      "958/958 [==============================] - 4s 4ms/sample - loss: 8.5177e-04 - val_loss: 4.4962e-04\n",
      "Epoch 279/300\n",
      "958/958 [==============================] - 4s 4ms/sample - loss: 9.6128e-04 - val_loss: 3.1608e-04\n",
      "Epoch 280/300\n",
      "958/958 [==============================] - 4s 5ms/sample - loss: 8.5071e-04 - val_loss: 2.8725e-04\n",
      "Epoch 281/300\n",
      "958/958 [==============================] - 4s 4ms/sample - loss: 8.2551e-04 - val_loss: 2.8451e-04\n",
      "Epoch 282/300\n",
      "958/958 [==============================] - 4s 4ms/sample - loss: 8.0522e-04 - val_loss: 3.5788e-04\n",
      "Epoch 283/300\n",
      "958/958 [==============================] - 4s 4ms/sample - loss: 8.0065e-04 - val_loss: 2.7319e-04\n",
      "Epoch 284/300\n",
      "958/958 [==============================] - 4s 4ms/sample - loss: 8.5772e-04 - val_loss: 3.5408e-04\n",
      "Epoch 285/300\n",
      "958/958 [==============================] - 4s 4ms/sample - loss: 9.5887e-04 - val_loss: 3.4839e-04\n",
      "Epoch 286/300\n",
      "958/958 [==============================] - 4s 4ms/sample - loss: 0.0010 - val_loss: 6.4799e-04\n",
      "Epoch 287/300\n",
      "958/958 [==============================] - 4s 4ms/sample - loss: 9.0872e-04 - val_loss: 2.7540e-04\n",
      "Epoch 288/300\n",
      "958/958 [==============================] - 4s 4ms/sample - loss: 8.0507e-04 - val_loss: 2.7791e-04\n",
      "Epoch 289/300\n",
      "958/958 [==============================] - 4s 5ms/sample - loss: 7.9471e-04 - val_loss: 3.1383e-04\n",
      "Epoch 290/300\n",
      "958/958 [==============================] - 4s 5ms/sample - loss: 8.4252e-04 - val_loss: 4.3159e-04\n",
      "Epoch 291/300\n",
      "958/958 [==============================] - 4s 4ms/sample - loss: 9.4065e-04 - val_loss: 2.5037e-04\n",
      "Epoch 292/300\n",
      "958/958 [==============================] - 4s 4ms/sample - loss: 9.1674e-04 - val_loss: 5.3819e-04\n",
      "Epoch 293/300\n",
      "958/958 [==============================] - 4s 4ms/sample - loss: 8.1053e-04 - val_loss: 3.6889e-04\n",
      "Epoch 294/300\n",
      "958/958 [==============================] - 4s 4ms/sample - loss: 8.7620e-04 - val_loss: 2.9190e-04\n",
      "Epoch 295/300\n",
      "958/958 [==============================] - 4s 4ms/sample - loss: 8.3574e-04 - val_loss: 4.0238e-04\n",
      "Epoch 296/300\n",
      "958/958 [==============================] - 4s 4ms/sample - loss: 7.5702e-04 - val_loss: 3.0486e-04\n",
      "Epoch 297/300\n",
      "958/958 [==============================] - 4s 4ms/sample - loss: 9.4523e-04 - val_loss: 4.4877e-04\n"
     ]
    },
    {
     "name": "stdout",
     "output_type": "stream",
     "text": [
      "Epoch 298/300\n",
      "958/958 [==============================] - 4s 4ms/sample - loss: 8.8097e-04 - val_loss: 2.6809e-04\n",
      "Epoch 299/300\n",
      "958/958 [==============================] - 4s 4ms/sample - loss: 7.8964e-04 - val_loss: 3.0266e-04\n",
      "Epoch 300/300\n",
      "958/958 [==============================] - 4s 4ms/sample - loss: 7.8331e-04 - val_loss: 3.2708e-04\n"
     ]
    }
   ],
   "source": [
    "history = regressor.fit(x=X_train, y=y_train, batch_size=32, epochs=300, validation_data=[X_validation, y_validation])"
   ]
  },
  {
   "cell_type": "code",
   "execution_count": 28,
   "id": "a12e5d02",
   "metadata": {},
   "outputs": [
    {
     "data": {
      "image/png": "[encoded data removed]",
      "text/plain": [
       "<Figure size 1600x800 with 1 Axes>"
      ]
     },
     "metadata": {},
     "output_type": "display_data"
    }
   ],
   "source": [
    "fig, ax = plt.subplots(figsize=(16,8))\n",
    "\n",
    "ax.plot(history.history['loss'])\n",
    "ax.plot(history.history['val_loss'])\n",
    "ax.set_xlabel('Epoch')\n",
    "ax.set_ylabel('Mean Squared Error')\n",
    "ax.legend(['Training Loss', 'Validation Loss'])\n",
    "\n",
    "plt.show()"
   ]
  },
  {
   "cell_type": "code",
   "execution_count": 29,
   "id": "525c245b",
   "metadata": {},
   "outputs": [
    {
     "data": {
      "text/html": [
       "<div>\n",
       "<style scoped>\n",
       "    .dataframe tbody tr th:only-of-type {\n",
       "        vertical-align: middle;\n",
       "    }\n",
       "\n",
       "    .dataframe tbody tr th {\n",
       "        vertical-align: top;\n",
       "    }\n",
       "\n",
       "    .dataframe thead th {\n",
       "        text-align: right;\n",
       "    }\n",
       "</style>\n",
       "<table border=\"1\" class=\"dataframe\">\n",
       "  <thead>\n",
       "    <tr style=\"text-align: right;\">\n",
       "      <th></th>\n",
       "      <th>Date</th>\n",
       "      <th>Open</th>\n",
       "      <th>High</th>\n",
       "      <th>Low</th>\n",
       "      <th>Close</th>\n",
       "      <th>Volume</th>\n",
       "    </tr>\n",
       "  </thead>\n",
       "  <tbody>\n",
       "    <tr>\n",
       "      <th>0</th>\n",
       "      <td>1/3/2017</td>\n",
       "      <td>778.81</td>\n",
       "      <td>789.63</td>\n",
       "      <td>775.80</td>\n",
       "      <td>786.14</td>\n",
       "      <td>1,657,300</td>\n",
       "    </tr>\n",
       "    <tr>\n",
       "      <th>1</th>\n",
       "      <td>1/4/2017</td>\n",
       "      <td>788.36</td>\n",
       "      <td>791.34</td>\n",
       "      <td>783.16</td>\n",
       "      <td>786.90</td>\n",
       "      <td>1,073,000</td>\n",
       "    </tr>\n",
       "    <tr>\n",
       "      <th>2</th>\n",
       "      <td>1/5/2017</td>\n",
       "      <td>786.08</td>\n",
       "      <td>794.48</td>\n",
       "      <td>785.02</td>\n",
       "      <td>794.02</td>\n",
       "      <td>1,335,200</td>\n",
       "    </tr>\n",
       "    <tr>\n",
       "      <th>3</th>\n",
       "      <td>1/6/2017</td>\n",
       "      <td>795.26</td>\n",
       "      <td>807.90</td>\n",
       "      <td>792.20</td>\n",
       "      <td>806.15</td>\n",
       "      <td>1,640,200</td>\n",
       "    </tr>\n",
       "    <tr>\n",
       "      <th>4</th>\n",
       "      <td>1/9/2017</td>\n",
       "      <td>806.40</td>\n",
       "      <td>809.97</td>\n",
       "      <td>802.83</td>\n",
       "      <td>806.65</td>\n",
       "      <td>1,272,400</td>\n",
       "    </tr>\n",
       "  </tbody>\n",
       "</table>\n",
       "</div>"
      ],
      "text/plain": [
       "       Date    Open    High     Low   Close     Volume\n",
       "0  1/3/2017  778.81  789.63  775.80  786.14  1,657,300\n",
       "1  1/4/2017  788.36  791.34  783.16  786.90  1,073,000\n",
       "2  1/5/2017  786.08  794.48  785.02  794.02  1,335,200\n",
       "3  1/6/2017  795.26  807.90  792.20  806.15  1,640,200\n",
       "4  1/9/2017  806.40  809.97  802.83  806.65  1,272,400"
      ]
     },
     "execution_count": 29,
     "metadata": {},
     "output_type": "execute_result"
    }
   ],
   "source": [
    "## getting the test set\n",
    "test = pd.read_csv('Google_Stock_Price_Test.csv')\n",
    "test.head()"
   ]
  },
  {
   "cell_type": "code",
   "execution_count": 30,
   "id": "dd458ca9",
   "metadata": {},
   "outputs": [],
   "source": [
    "test_data = test.values[:,1:2]"
   ]
  },
  {
   "cell_type": "code",
   "execution_count": 31,
   "id": "248b8d61",
   "metadata": {},
   "outputs": [
    {
     "data": {
      "text/plain": [
       "array([[778.81],\n",
       "       [788.36],\n",
       "       [786.08],\n",
       "       [795.26],\n",
       "       [806.4],\n",
       "       [807.86],\n",
       "       [805.0],\n",
       "       [807.14],\n",
       "       [807.48],\n",
       "       [807.08],\n",
       "       [805.81],\n",
       "       [805.12],\n",
       "       [806.91],\n",
       "       [807.25],\n",
       "       [822.3],\n",
       "       [829.62],\n",
       "       [837.81],\n",
       "       [834.71],\n",
       "       [814.66],\n",
       "       [796.86]], dtype=object)"
      ]
     },
     "execution_count": 31,
     "metadata": {},
     "output_type": "execute_result"
    }
   ],
   "source": [
    "test_data"
   ]
  },
  {
   "cell_type": "code",
   "execution_count": 32,
   "id": "6cff5034",
   "metadata": {},
   "outputs": [
    {
     "data": {
      "text/plain": [
       "array([[0.92927708],\n",
       "       [0.94711188],\n",
       "       [0.94285394],\n",
       "       [0.95999776],\n",
       "       [0.98080191],\n",
       "       [0.98352849],\n",
       "       [0.97818739],\n",
       "       [0.98218388],\n",
       "       [0.98281883],\n",
       "       [0.98207182],\n",
       "       [0.97970008],\n",
       "       [0.97841149],\n",
       "       [0.98175435],\n",
       "       [0.9823893 ],\n",
       "       [1.01049545],\n",
       "       [1.02416569],\n",
       "       [1.03946066],\n",
       "       [1.03367135],\n",
       "       [0.99622761],\n",
       "       [0.96298579]])"
      ]
     },
     "execution_count": 32,
     "metadata": {},
     "output_type": "execute_result"
    }
   ],
   "source": [
    "mms.transform(test_data)"
   ]
  },
  {
   "cell_type": "code",
   "execution_count": 37,
   "id": "6f00dbb9",
   "metadata": {},
   "outputs": [
    {
     "data": {
      "text/html": [
       "<div>\n",
       "<style scoped>\n",
       "    .dataframe tbody tr th:only-of-type {\n",
       "        vertical-align: middle;\n",
       "    }\n",
       "\n",
       "    .dataframe tbody tr th {\n",
       "        vertical-align: top;\n",
       "    }\n",
       "\n",
       "    .dataframe thead th {\n",
       "        text-align: right;\n",
       "    }\n",
       "</style>\n",
       "<table border=\"1\" class=\"dataframe\">\n",
       "  <thead>\n",
       "    <tr style=\"text-align: right;\">\n",
       "      <th></th>\n",
       "      <th>Open</th>\n",
       "      <th>High</th>\n",
       "      <th>Low</th>\n",
       "      <th>Close</th>\n",
       "      <th>Volume</th>\n",
       "    </tr>\n",
       "    <tr>\n",
       "      <th>Date</th>\n",
       "      <th></th>\n",
       "      <th></th>\n",
       "      <th></th>\n",
       "      <th></th>\n",
       "      <th></th>\n",
       "    </tr>\n",
       "  </thead>\n",
       "  <tbody>\n",
       "    <tr>\n",
       "      <th>2017-01-03</th>\n",
       "      <td>778.81</td>\n",
       "      <td>789.63</td>\n",
       "      <td>775.80</td>\n",
       "      <td>786.14</td>\n",
       "      <td>1,657,300</td>\n",
       "    </tr>\n",
       "    <tr>\n",
       "      <th>2017-01-04</th>\n",
       "      <td>788.36</td>\n",
       "      <td>791.34</td>\n",
       "      <td>783.16</td>\n",
       "      <td>786.90</td>\n",
       "      <td>1,073,000</td>\n",
       "    </tr>\n",
       "    <tr>\n",
       "      <th>2017-01-05</th>\n",
       "      <td>786.08</td>\n",
       "      <td>794.48</td>\n",
       "      <td>785.02</td>\n",
       "      <td>794.02</td>\n",
       "      <td>1,335,200</td>\n",
       "    </tr>\n",
       "    <tr>\n",
       "      <th>2017-01-06</th>\n",
       "      <td>795.26</td>\n",
       "      <td>807.90</td>\n",
       "      <td>792.20</td>\n",
       "      <td>806.15</td>\n",
       "      <td>1,640,200</td>\n",
       "    </tr>\n",
       "    <tr>\n",
       "      <th>2017-01-09</th>\n",
       "      <td>806.40</td>\n",
       "      <td>809.97</td>\n",
       "      <td>802.83</td>\n",
       "      <td>806.65</td>\n",
       "      <td>1,272,400</td>\n",
       "    </tr>\n",
       "  </tbody>\n",
       "</table>\n",
       "</div>"
      ],
      "text/plain": [
       "              Open    High     Low   Close     Volume\n",
       "Date                                                 \n",
       "2017-01-03  778.81  789.63  775.80  786.14  1,657,300\n",
       "2017-01-04  788.36  791.34  783.16  786.90  1,073,000\n",
       "2017-01-05  786.08  794.48  785.02  794.02  1,335,200\n",
       "2017-01-06  795.26  807.90  792.20  806.15  1,640,200\n",
       "2017-01-09  806.40  809.97  802.83  806.65  1,272,400"
      ]
     },
     "execution_count": 37,
     "metadata": {},
     "output_type": "execute_result"
    }
   ],
   "source": [
    "test['Date'] = test['Date'].apply(lambda date: pd.to_datetime(date))\n",
    "\n",
    "test.set_index('Date', inplace=True)\n",
    "\n",
    "test.head()"
   ]
  },
  {
   "cell_type": "code",
   "execution_count": 38,
   "id": "135e847e",
   "metadata": {},
   "outputs": [
    {
     "data": {
      "text/html": [
       "<div>\n",
       "<style scoped>\n",
       "    .dataframe tbody tr th:only-of-type {\n",
       "        vertical-align: middle;\n",
       "    }\n",
       "\n",
       "    .dataframe tbody tr th {\n",
       "        vertical-align: top;\n",
       "    }\n",
       "\n",
       "    .dataframe thead th {\n",
       "        text-align: right;\n",
       "    }\n",
       "</style>\n",
       "<table border=\"1\" class=\"dataframe\">\n",
       "  <thead>\n",
       "    <tr style=\"text-align: right;\">\n",
       "      <th></th>\n",
       "      <th>Open</th>\n",
       "      <th>High</th>\n",
       "      <th>Low</th>\n",
       "      <th>Close</th>\n",
       "      <th>Volume</th>\n",
       "    </tr>\n",
       "    <tr>\n",
       "      <th>Date</th>\n",
       "      <th></th>\n",
       "      <th></th>\n",
       "      <th></th>\n",
       "      <th></th>\n",
       "      <th></th>\n",
       "    </tr>\n",
       "  </thead>\n",
       "  <tbody>\n",
       "    <tr>\n",
       "      <th>2017-01-03</th>\n",
       "      <td>778.81</td>\n",
       "      <td>789.63</td>\n",
       "      <td>775.80</td>\n",
       "      <td>786.14</td>\n",
       "      <td>1,657,300</td>\n",
       "    </tr>\n",
       "    <tr>\n",
       "      <th>2017-01-04</th>\n",
       "      <td>788.36</td>\n",
       "      <td>791.34</td>\n",
       "      <td>783.16</td>\n",
       "      <td>786.90</td>\n",
       "      <td>1,073,000</td>\n",
       "    </tr>\n",
       "    <tr>\n",
       "      <th>2017-01-05</th>\n",
       "      <td>786.08</td>\n",
       "      <td>794.48</td>\n",
       "      <td>785.02</td>\n",
       "      <td>794.02</td>\n",
       "      <td>1,335,200</td>\n",
       "    </tr>\n",
       "    <tr>\n",
       "      <th>2017-01-06</th>\n",
       "      <td>795.26</td>\n",
       "      <td>807.90</td>\n",
       "      <td>792.20</td>\n",
       "      <td>806.15</td>\n",
       "      <td>1,640,200</td>\n",
       "    </tr>\n",
       "    <tr>\n",
       "      <th>2017-01-09</th>\n",
       "      <td>806.40</td>\n",
       "      <td>809.97</td>\n",
       "      <td>802.83</td>\n",
       "      <td>806.65</td>\n",
       "      <td>1,272,400</td>\n",
       "    </tr>\n",
       "    <tr>\n",
       "      <th>2017-01-10</th>\n",
       "      <td>807.86</td>\n",
       "      <td>809.13</td>\n",
       "      <td>803.51</td>\n",
       "      <td>804.79</td>\n",
       "      <td>1,176,800</td>\n",
       "    </tr>\n",
       "    <tr>\n",
       "      <th>2017-01-11</th>\n",
       "      <td>805.00</td>\n",
       "      <td>808.15</td>\n",
       "      <td>801.37</td>\n",
       "      <td>807.91</td>\n",
       "      <td>1,065,900</td>\n",
       "    </tr>\n",
       "    <tr>\n",
       "      <th>2017-01-12</th>\n",
       "      <td>807.14</td>\n",
       "      <td>807.39</td>\n",
       "      <td>799.17</td>\n",
       "      <td>806.36</td>\n",
       "      <td>1,353,100</td>\n",
       "    </tr>\n",
       "    <tr>\n",
       "      <th>2017-01-13</th>\n",
       "      <td>807.48</td>\n",
       "      <td>811.22</td>\n",
       "      <td>806.69</td>\n",
       "      <td>807.88</td>\n",
       "      <td>1,099,200</td>\n",
       "    </tr>\n",
       "    <tr>\n",
       "      <th>2017-01-17</th>\n",
       "      <td>807.08</td>\n",
       "      <td>807.14</td>\n",
       "      <td>800.37</td>\n",
       "      <td>804.61</td>\n",
       "      <td>1,362,100</td>\n",
       "    </tr>\n",
       "    <tr>\n",
       "      <th>2017-01-18</th>\n",
       "      <td>805.81</td>\n",
       "      <td>806.21</td>\n",
       "      <td>800.99</td>\n",
       "      <td>806.07</td>\n",
       "      <td>1,294,400</td>\n",
       "    </tr>\n",
       "    <tr>\n",
       "      <th>2017-01-19</th>\n",
       "      <td>805.12</td>\n",
       "      <td>809.48</td>\n",
       "      <td>801.80</td>\n",
       "      <td>802.17</td>\n",
       "      <td>919,300</td>\n",
       "    </tr>\n",
       "    <tr>\n",
       "      <th>2017-01-20</th>\n",
       "      <td>806.91</td>\n",
       "      <td>806.91</td>\n",
       "      <td>801.69</td>\n",
       "      <td>805.02</td>\n",
       "      <td>1,670,000</td>\n",
       "    </tr>\n",
       "    <tr>\n",
       "      <th>2017-01-23</th>\n",
       "      <td>807.25</td>\n",
       "      <td>820.87</td>\n",
       "      <td>803.74</td>\n",
       "      <td>819.31</td>\n",
       "      <td>1,963,600</td>\n",
       "    </tr>\n",
       "    <tr>\n",
       "      <th>2017-01-24</th>\n",
       "      <td>822.30</td>\n",
       "      <td>825.90</td>\n",
       "      <td>817.82</td>\n",
       "      <td>823.87</td>\n",
       "      <td>1,474,000</td>\n",
       "    </tr>\n",
       "    <tr>\n",
       "      <th>2017-01-25</th>\n",
       "      <td>829.62</td>\n",
       "      <td>835.77</td>\n",
       "      <td>825.06</td>\n",
       "      <td>835.67</td>\n",
       "      <td>1,494,500</td>\n",
       "    </tr>\n",
       "    <tr>\n",
       "      <th>2017-01-26</th>\n",
       "      <td>837.81</td>\n",
       "      <td>838.00</td>\n",
       "      <td>827.01</td>\n",
       "      <td>832.15</td>\n",
       "      <td>2,973,900</td>\n",
       "    </tr>\n",
       "    <tr>\n",
       "      <th>2017-01-27</th>\n",
       "      <td>834.71</td>\n",
       "      <td>841.95</td>\n",
       "      <td>820.44</td>\n",
       "      <td>823.31</td>\n",
       "      <td>2,965,800</td>\n",
       "    </tr>\n",
       "    <tr>\n",
       "      <th>2017-01-30</th>\n",
       "      <td>814.66</td>\n",
       "      <td>815.84</td>\n",
       "      <td>799.80</td>\n",
       "      <td>802.32</td>\n",
       "      <td>3,246,600</td>\n",
       "    </tr>\n",
       "    <tr>\n",
       "      <th>2017-01-31</th>\n",
       "      <td>796.86</td>\n",
       "      <td>801.25</td>\n",
       "      <td>790.52</td>\n",
       "      <td>796.79</td>\n",
       "      <td>2,160,600</td>\n",
       "    </tr>\n",
       "  </tbody>\n",
       "</table>\n",
       "</div>"
      ],
      "text/plain": [
       "              Open    High     Low   Close     Volume\n",
       "Date                                                 \n",
       "2017-01-03  778.81  789.63  775.80  786.14  1,657,300\n",
       "2017-01-04  788.36  791.34  783.16  786.90  1,073,000\n",
       "2017-01-05  786.08  794.48  785.02  794.02  1,335,200\n",
       "2017-01-06  795.26  807.90  792.20  806.15  1,640,200\n",
       "2017-01-09  806.40  809.97  802.83  806.65  1,272,400\n",
       "2017-01-10  807.86  809.13  803.51  804.79  1,176,800\n",
       "2017-01-11  805.00  808.15  801.37  807.91  1,065,900\n",
       "2017-01-12  807.14  807.39  799.17  806.36  1,353,100\n",
       "2017-01-13  807.48  811.22  806.69  807.88  1,099,200\n",
       "2017-01-17  807.08  807.14  800.37  804.61  1,362,100\n",
       "2017-01-18  805.81  806.21  800.99  806.07  1,294,400\n",
       "2017-01-19  805.12  809.48  801.80  802.17    919,300\n",
       "2017-01-20  806.91  806.91  801.69  805.02  1,670,000\n",
       "2017-01-23  807.25  820.87  803.74  819.31  1,963,600\n",
       "2017-01-24  822.30  825.90  817.82  823.87  1,474,000\n",
       "2017-01-25  829.62  835.77  825.06  835.67  1,494,500\n",
       "2017-01-26  837.81  838.00  827.01  832.15  2,973,900\n",
       "2017-01-27  834.71  841.95  820.44  823.31  2,965,800\n",
       "2017-01-30  814.66  815.84  799.80  802.32  3,246,600\n",
       "2017-01-31  796.86  801.25  790.52  796.79  2,160,600"
      ]
     },
     "execution_count": 38,
     "metadata": {},
     "output_type": "execute_result"
    }
   ],
   "source": [
    "test"
   ]
  },
  {
   "cell_type": "code",
   "execution_count": 58,
   "id": "89075a5e",
   "metadata": {},
   "outputs": [],
   "source": [
    "total_data = pd.concat((train['Open'], test['Open']), axis=0)"
   ]
  },
  {
   "cell_type": "code",
   "execution_count": 59,
   "id": "f6285069",
   "metadata": {},
   "outputs": [
    {
     "data": {
      "text/plain": [
       "Date\n",
       "2012-01-03    325.25\n",
       "2012-01-04    331.27\n",
       "2012-01-05    329.83\n",
       "2012-01-06    328.34\n",
       "2012-01-09    322.04\n",
       "               ...  \n",
       "2017-01-25    829.62\n",
       "2017-01-26    837.81\n",
       "2017-01-27    834.71\n",
       "2017-01-30    814.66\n",
       "2017-01-31    796.86\n",
       "Name: Open, Length: 1278, dtype: float64"
      ]
     },
     "execution_count": 59,
     "metadata": {},
     "output_type": "execute_result"
    }
   ],
   "source": [
    "total_data"
   ]
  },
  {
   "cell_type": "code",
   "execution_count": 69,
   "id": "5aad14db",
   "metadata": {},
   "outputs": [],
   "source": [
    "X_test = []\n",
    "y_test = []\n",
    "\n",
    "test_indices = [i for i in range(len(total_data)) if total_data.index[i].year == 2017]\n",
    "\n",
    "for i in test_indices:\n",
    "    X_test.append(total_data.values[i-time_steps:i])\n",
    "    y_test.append(total_data.values[i])"
   ]
  },
  {
   "cell_type": "code",
   "execution_count": 70,
   "id": "014aaba2",
   "metadata": {},
   "outputs": [],
   "source": [
    "X_test = np.array(X_test)"
   ]
  },
  {
   "cell_type": "code",
   "execution_count": 71,
   "id": "254ff185",
   "metadata": {},
   "outputs": [
    {
     "data": {
      "text/plain": [
       "array([[779.  , 779.66, 777.71, ..., 793.7 , 783.33, 782.75],\n",
       "       [779.66, 777.71, 786.66, ..., 783.33, 782.75, 778.81],\n",
       "       [777.71, 786.66, 783.76, ..., 782.75, 778.81, 788.36],\n",
       "       ...,\n",
       "       [795.47, 782.89, 778.2 , ..., 822.3 , 829.62, 837.81],\n",
       "       [782.89, 778.2 , 767.25, ..., 829.62, 837.81, 834.71],\n",
       "       [778.2 , 767.25, 750.66, ..., 837.81, 834.71, 814.66]])"
      ]
     },
     "execution_count": 71,
     "metadata": {},
     "output_type": "execute_result"
    }
   ],
   "source": [
    "X_test"
   ]
  },
  {
   "cell_type": "code",
   "execution_count": 72,
   "id": "1ec58a6e",
   "metadata": {},
   "outputs": [
    {
     "data": {
      "text/plain": [
       "(20, 60)"
      ]
     },
     "execution_count": 72,
     "metadata": {},
     "output_type": "execute_result"
    }
   ],
   "source": [
    "X_test.shape"
   ]
  },
  {
   "cell_type": "code",
   "execution_count": 73,
   "id": "c7f9c622",
   "metadata": {},
   "outputs": [],
   "source": [
    "y_test = np.array(y_test)"
   ]
  },
  {
   "cell_type": "code",
   "execution_count": 74,
   "id": "aed069f9",
   "metadata": {},
   "outputs": [
    {
     "data": {
      "text/plain": [
       "array([778.81, 788.36, 786.08, 795.26, 806.4 , 807.86, 805.  , 807.14,\n",
       "       807.48, 807.08, 805.81, 805.12, 806.91, 807.25, 822.3 , 829.62,\n",
       "       837.81, 834.71, 814.66, 796.86])"
      ]
     },
     "execution_count": 74,
     "metadata": {},
     "output_type": "execute_result"
    }
   ],
   "source": [
    "y_test"
   ]
  },
  {
   "cell_type": "code",
   "execution_count": 76,
   "id": "8d6d5291",
   "metadata": {},
   "outputs": [],
   "source": [
    "## inputs"
   ]
  },
  {
   "cell_type": "code",
   "execution_count": 82,
   "id": "5ae15c4f",
   "metadata": {},
   "outputs": [],
   "source": [
    "inputs = total_data[min(test_indices)-60:].values"
   ]
  },
  {
   "cell_type": "code",
   "execution_count": 83,
   "id": "c6df1418",
   "metadata": {},
   "outputs": [
    {
     "data": {
      "text/plain": [
       "(80,)"
      ]
     },
     "execution_count": 83,
     "metadata": {},
     "output_type": "execute_result"
    }
   ],
   "source": [
    "inputs.shape"
   ]
  },
  {
   "cell_type": "code",
   "execution_count": 84,
   "id": "42d135ca",
   "metadata": {},
   "outputs": [
    {
     "data": {
      "text/plain": [
       "array([779.  , 779.66, 777.71, 786.66, 783.76, 781.22, 781.65, 779.8 ,\n",
       "       787.85, 798.24, 803.3 , 795.  , 804.9 , 816.68, 806.34, 801.  ,\n",
       "       808.35, 795.47, 782.89, 778.2 , 767.25, 750.66, 774.5 , 783.4 ,\n",
       "       779.94, 791.17, 756.54, 755.6 , 746.97, 755.2 , 766.92, 771.37,\n",
       "       762.61, 772.63, 767.73, 764.26, 760.  , 771.53, 770.07, 757.44,\n",
       "       744.59, 757.71, 764.73, 761.  , 772.48, 780.  , 785.04, 793.9 ,\n",
       "       797.4 , 797.34, 800.4 , 790.22, 796.76, 795.84, 792.36, 790.9 ,\n",
       "       790.68, 793.7 , 783.33, 782.75, 778.81, 788.36, 786.08, 795.26,\n",
       "       806.4 , 807.86, 805.  , 807.14, 807.48, 807.08, 805.81, 805.12,\n",
       "       806.91, 807.25, 822.3 , 829.62, 837.81, 834.71, 814.66, 796.86])"
      ]
     },
     "execution_count": 84,
     "metadata": {},
     "output_type": "execute_result"
    }
   ],
   "source": [
    "inputs"
   ]
  },
  {
   "cell_type": "code",
   "execution_count": 86,
   "id": "ed444b5a",
   "metadata": {},
   "outputs": [],
   "source": [
    "inputs = inputs.reshape(-1,1)"
   ]
  },
  {
   "cell_type": "code",
   "execution_count": 87,
   "id": "20b30554",
   "metadata": {},
   "outputs": [
    {
     "data": {
      "text/plain": [
       "(80, 1)"
      ]
     },
     "execution_count": 87,
     "metadata": {},
     "output_type": "execute_result"
    }
   ],
   "source": [
    "inputs.shape"
   ]
  },
  {
   "cell_type": "code",
   "execution_count": 89,
   "id": "7fbbcf9d",
   "metadata": {},
   "outputs": [],
   "source": [
    "inputs = mms.transform(inputs)"
   ]
  },
  {
   "cell_type": "code",
   "execution_count": 90,
   "id": "7475852f",
   "metadata": {},
   "outputs": [
    {
     "data": {
      "text/plain": [
       "array([[0.92963191],\n",
       "       [0.93086447],\n",
       "       [0.92722281],\n",
       "       [0.9439371 ],\n",
       "       [0.9385213 ],\n",
       "       [0.9337778 ],\n",
       "       [0.93458084],\n",
       "       [0.93112593],\n",
       "       [0.94615945],\n",
       "       [0.96556296],\n",
       "       [0.97501261],\n",
       "       [0.9595122 ],\n",
       "       [0.97800063],\n",
       "       [1.        ],\n",
       "       [0.98068986],\n",
       "       [0.97071731],\n",
       "       [0.98444357],\n",
       "       [0.96038994],\n",
       "       [0.93689656],\n",
       "       [0.9281379 ],\n",
       "       [0.90768857],\n",
       "       [0.87670644],\n",
       "       [0.92122808],\n",
       "       [0.93784899],\n",
       "       [0.93138738],\n",
       "       [0.95235961],\n",
       "       [0.88768745],\n",
       "       [0.88593198],\n",
       "       [0.8698153 ],\n",
       "       [0.88518498],\n",
       "       [0.90707229],\n",
       "       [0.91538275],\n",
       "       [0.89902329],\n",
       "       [0.91773582],\n",
       "       [0.90858498],\n",
       "       [0.90210469],\n",
       "       [0.89414907],\n",
       "       [0.91568155],\n",
       "       [0.91295497],\n",
       "       [0.88936822],\n",
       "       [0.86537061],\n",
       "       [0.88987245],\n",
       "       [0.90298243],\n",
       "       [0.89601658],\n",
       "       [0.91745569],\n",
       "       [0.93149943],\n",
       "       [0.94091172],\n",
       "       [0.95745793],\n",
       "       [0.96399425],\n",
       "       [0.9638822 ],\n",
       "       [0.9695968 ],\n",
       "       [0.95058547],\n",
       "       [0.96279904],\n",
       "       [0.96108092],\n",
       "       [0.95458196],\n",
       "       [0.95185538],\n",
       "       [0.95144453],\n",
       "       [0.95708443],\n",
       "       [0.93771827],\n",
       "       [0.93663511],\n",
       "       [0.92927708],\n",
       "       [0.94711188],\n",
       "       [0.94285394],\n",
       "       [0.95999776],\n",
       "       [0.98080191],\n",
       "       [0.98352849],\n",
       "       [0.97818739],\n",
       "       [0.98218388],\n",
       "       [0.98281883],\n",
       "       [0.98207182],\n",
       "       [0.97970008],\n",
       "       [0.97841149],\n",
       "       [0.98175435],\n",
       "       [0.9823893 ],\n",
       "       [1.01049545],\n",
       "       [1.02416569],\n",
       "       [1.03946066],\n",
       "       [1.03367135],\n",
       "       [0.99622761],\n",
       "       [0.96298579]])"
      ]
     },
     "execution_count": 90,
     "metadata": {},
     "output_type": "execute_result"
    }
   ],
   "source": [
    "inputs"
   ]
  },
  {
   "cell_type": "code",
   "execution_count": 92,
   "id": "640f47e0",
   "metadata": {},
   "outputs": [],
   "source": [
    "X_test = list()\n",
    "y_test = list()\n",
    "\n",
    "for i in range(time_steps, len(inputs)):\n",
    "    X_test.append(inputs[i-time_steps:i,0].reshape(time_steps))\n",
    "    y_test.append(inputs[i,0])\n",
    "    \n",
    "X_test, y_test = np.array(X_test), np.array(y_test)"
   ]
  },
  {
   "cell_type": "code",
   "execution_count": 103,
   "id": "8802efb2",
   "metadata": {},
   "outputs": [
    {
     "data": {
      "text/plain": [
       "(20, 60)"
      ]
     },
     "execution_count": 103,
     "metadata": {},
     "output_type": "execute_result"
    }
   ],
   "source": [
    "X_test.shape"
   ]
  },
  {
   "cell_type": "code",
   "execution_count": 94,
   "id": "44a48e7f",
   "metadata": {},
   "outputs": [
    {
     "data": {
      "text/plain": [
       "(20, 60)"
      ]
     },
     "execution_count": 94,
     "metadata": {},
     "output_type": "execute_result"
    }
   ],
   "source": [
    "X_test.shape"
   ]
  },
  {
   "cell_type": "code",
   "execution_count": 95,
   "id": "61f09ebf",
   "metadata": {},
   "outputs": [
    {
     "data": {
      "text/plain": [
       "array([0.92927708, 0.94711188, 0.94285394, 0.95999776, 0.98080191,\n",
       "       0.98352849, 0.97818739, 0.98218388, 0.98281883, 0.98207182,\n",
       "       0.97970008, 0.97841149, 0.98175435, 0.9823893 , 1.01049545,\n",
       "       1.02416569, 1.03946066, 1.03367135, 0.99622761, 0.96298579])"
      ]
     },
     "execution_count": 95,
     "metadata": {},
     "output_type": "execute_result"
    }
   ],
   "source": [
    "y_test"
   ]
  },
  {
   "cell_type": "code",
   "execution_count": 96,
   "id": "ddc2dfd8",
   "metadata": {},
   "outputs": [
    {
     "data": {
      "text/plain": [
       "(20,)"
      ]
     },
     "execution_count": 96,
     "metadata": {},
     "output_type": "execute_result"
    }
   ],
   "source": [
    "y_test.shape"
   ]
  },
  {
   "cell_type": "code",
   "execution_count": 99,
   "id": "7051283c",
   "metadata": {},
   "outputs": [
    {
     "ename": "TypeError",
     "evalue": "only integer scalar arrays can be converted to a scalar index",
     "output_type": "error",
     "traceback": [
      "\u001b[1;31m---------------------------------------------------------------------------\u001b[0m",
      "\u001b[1;31mTypeError\u001b[0m                                 Traceback (most recent call last)",
      "\u001b[1;32m~\\anaconda3\\envs\\nlp_course\\lib\\site-packages\\numpy\\core\\fromnumeric.py\u001b[0m in \u001b[0;36m_wrapfunc\u001b[1;34m(obj, method, *args, **kwds)\u001b[0m\n\u001b[0;32m     56\u001b[0m     \u001b[1;32mtry\u001b[0m\u001b[1;33m:\u001b[0m\u001b[1;33m\u001b[0m\u001b[1;33m\u001b[0m\u001b[0m\n\u001b[1;32m---> 57\u001b[1;33m         \u001b[1;32mreturn\u001b[0m \u001b[0mbound\u001b[0m\u001b[1;33m(\u001b[0m\u001b[1;33m*\u001b[0m\u001b[0margs\u001b[0m\u001b[1;33m,\u001b[0m \u001b[1;33m**\u001b[0m\u001b[0mkwds\u001b[0m\u001b[1;33m)\u001b[0m\u001b[1;33m\u001b[0m\u001b[1;33m\u001b[0m\u001b[0m\n\u001b[0m\u001b[0;32m     58\u001b[0m     \u001b[1;32mexcept\u001b[0m \u001b[0mTypeError\u001b[0m\u001b[1;33m:\u001b[0m\u001b[1;33m\u001b[0m\u001b[1;33m\u001b[0m\u001b[0m\n",
      "\u001b[1;31mTypeError\u001b[0m: only integer scalar arrays can be converted to a scalar index",
      "\nDuring handling of the above exception, another exception occurred:\n",
      "\u001b[1;31mTypeError\u001b[0m                                 Traceback (most recent call last)",
      "\u001b[1;32m~\\AppData\\Local\\Temp\\ipykernel_16176\\645498768.py\u001b[0m in \u001b[0;36m<module>\u001b[1;34m\u001b[0m\n\u001b[1;32m----> 1\u001b[1;33m \u001b[0mX_test\u001b[0m \u001b[1;33m=\u001b[0m \u001b[0mnp\u001b[0m\u001b[1;33m.\u001b[0m\u001b[0mreshape\u001b[0m\u001b[1;33m(\u001b[0m\u001b[0mX_test\u001b[0m\u001b[1;33m,\u001b[0m \u001b[1;33m(\u001b[0m\u001b[0mX_test\u001b[0m\u001b[1;33m[\u001b[0m\u001b[1;36m0\u001b[0m\u001b[1;33m]\u001b[0m\u001b[1;33m,\u001b[0m \u001b[0mX_test\u001b[0m\u001b[1;33m[\u001b[0m\u001b[1;36m1\u001b[0m\u001b[1;33m]\u001b[0m\u001b[1;33m,\u001b[0m \u001b[1;36m1\u001b[0m\u001b[1;33m)\u001b[0m\u001b[1;33m)\u001b[0m\u001b[1;33m\u001b[0m\u001b[1;33m\u001b[0m\u001b[0m\n\u001b[0m",
      "\u001b[1;32m<__array_function__ internals>\u001b[0m in \u001b[0;36mreshape\u001b[1;34m(*args, **kwargs)\u001b[0m\n",
      "\u001b[1;32m~\\anaconda3\\envs\\nlp_course\\lib\\site-packages\\numpy\\core\\fromnumeric.py\u001b[0m in \u001b[0;36mreshape\u001b[1;34m(a, newshape, order)\u001b[0m\n\u001b[0;32m    296\u001b[0m            [5, 6]])\n\u001b[0;32m    297\u001b[0m     \"\"\"\n\u001b[1;32m--> 298\u001b[1;33m     \u001b[1;32mreturn\u001b[0m \u001b[0m_wrapfunc\u001b[0m\u001b[1;33m(\u001b[0m\u001b[0ma\u001b[0m\u001b[1;33m,\u001b[0m \u001b[1;34m'reshape'\u001b[0m\u001b[1;33m,\u001b[0m \u001b[0mnewshape\u001b[0m\u001b[1;33m,\u001b[0m \u001b[0morder\u001b[0m\u001b[1;33m=\u001b[0m\u001b[0morder\u001b[0m\u001b[1;33m)\u001b[0m\u001b[1;33m\u001b[0m\u001b[1;33m\u001b[0m\u001b[0m\n\u001b[0m\u001b[0;32m    299\u001b[0m \u001b[1;33m\u001b[0m\u001b[0m\n\u001b[0;32m    300\u001b[0m \u001b[1;33m\u001b[0m\u001b[0m\n",
      "\u001b[1;32m~\\anaconda3\\envs\\nlp_course\\lib\\site-packages\\numpy\\core\\fromnumeric.py\u001b[0m in \u001b[0;36m_wrapfunc\u001b[1;34m(obj, method, *args, **kwds)\u001b[0m\n\u001b[0;32m     64\u001b[0m         \u001b[1;31m# Call _wrapit from within the except clause to ensure a potential\u001b[0m\u001b[1;33m\u001b[0m\u001b[1;33m\u001b[0m\u001b[1;33m\u001b[0m\u001b[0m\n\u001b[0;32m     65\u001b[0m         \u001b[1;31m# exception has a traceback chain.\u001b[0m\u001b[1;33m\u001b[0m\u001b[1;33m\u001b[0m\u001b[1;33m\u001b[0m\u001b[0m\n\u001b[1;32m---> 66\u001b[1;33m         \u001b[1;32mreturn\u001b[0m \u001b[0m_wrapit\u001b[0m\u001b[1;33m(\u001b[0m\u001b[0mobj\u001b[0m\u001b[1;33m,\u001b[0m \u001b[0mmethod\u001b[0m\u001b[1;33m,\u001b[0m \u001b[1;33m*\u001b[0m\u001b[0margs\u001b[0m\u001b[1;33m,\u001b[0m \u001b[1;33m**\u001b[0m\u001b[0mkwds\u001b[0m\u001b[1;33m)\u001b[0m\u001b[1;33m\u001b[0m\u001b[1;33m\u001b[0m\u001b[0m\n\u001b[0m\u001b[0;32m     67\u001b[0m \u001b[1;33m\u001b[0m\u001b[0m\n\u001b[0;32m     68\u001b[0m \u001b[1;33m\u001b[0m\u001b[0m\n",
      "\u001b[1;32m~\\anaconda3\\envs\\nlp_course\\lib\\site-packages\\numpy\\core\\fromnumeric.py\u001b[0m in \u001b[0;36m_wrapit\u001b[1;34m(obj, method, *args, **kwds)\u001b[0m\n\u001b[0;32m     41\u001b[0m     \u001b[1;32mexcept\u001b[0m \u001b[0mAttributeError\u001b[0m\u001b[1;33m:\u001b[0m\u001b[1;33m\u001b[0m\u001b[1;33m\u001b[0m\u001b[0m\n\u001b[0;32m     42\u001b[0m         \u001b[0mwrap\u001b[0m \u001b[1;33m=\u001b[0m \u001b[1;32mNone\u001b[0m\u001b[1;33m\u001b[0m\u001b[1;33m\u001b[0m\u001b[0m\n\u001b[1;32m---> 43\u001b[1;33m     \u001b[0mresult\u001b[0m \u001b[1;33m=\u001b[0m \u001b[0mgetattr\u001b[0m\u001b[1;33m(\u001b[0m\u001b[0masarray\u001b[0m\u001b[1;33m(\u001b[0m\u001b[0mobj\u001b[0m\u001b[1;33m)\u001b[0m\u001b[1;33m,\u001b[0m \u001b[0mmethod\u001b[0m\u001b[1;33m)\u001b[0m\u001b[1;33m(\u001b[0m\u001b[1;33m*\u001b[0m\u001b[0margs\u001b[0m\u001b[1;33m,\u001b[0m \u001b[1;33m**\u001b[0m\u001b[0mkwds\u001b[0m\u001b[1;33m)\u001b[0m\u001b[1;33m\u001b[0m\u001b[1;33m\u001b[0m\u001b[0m\n\u001b[0m\u001b[0;32m     44\u001b[0m     \u001b[1;32mif\u001b[0m \u001b[0mwrap\u001b[0m\u001b[1;33m:\u001b[0m\u001b[1;33m\u001b[0m\u001b[1;33m\u001b[0m\u001b[0m\n\u001b[0;32m     45\u001b[0m         \u001b[1;32mif\u001b[0m \u001b[1;32mnot\u001b[0m \u001b[0misinstance\u001b[0m\u001b[1;33m(\u001b[0m\u001b[0mresult\u001b[0m\u001b[1;33m,\u001b[0m \u001b[0mmu\u001b[0m\u001b[1;33m.\u001b[0m\u001b[0mndarray\u001b[0m\u001b[1;33m)\u001b[0m\u001b[1;33m:\u001b[0m\u001b[1;33m\u001b[0m\u001b[1;33m\u001b[0m\u001b[0m\n",
      "\u001b[1;31mTypeError\u001b[0m: only integer scalar arrays can be converted to a scalar index"
     ]
    }
   ],
   "source": [
    "X_test = np.reshape(X_test, (X_test[0], X_test[1], 1))"
   ]
  },
  {
   "cell_type": "code",
   "execution_count": 101,
   "id": "9f67b99a",
   "metadata": {},
   "outputs": [
    {
     "data": {
      "text/plain": [
       "(20, 60)"
      ]
     },
     "execution_count": 101,
     "metadata": {},
     "output_type": "execute_result"
    }
   ],
   "source": [
    "X_test.shape"
   ]
  },
  {
   "cell_type": "code",
   "execution_count": 102,
   "id": "c0c2a06b",
   "metadata": {},
   "outputs": [
    {
     "ename": "TypeError",
     "evalue": "only integer scalar arrays can be converted to a scalar index",
     "output_type": "error",
     "traceback": [
      "\u001b[1;31m---------------------------------------------------------------------------\u001b[0m",
      "\u001b[1;31mTypeError\u001b[0m                                 Traceback (most recent call last)",
      "\u001b[1;32m~\\AppData\\Local\\Temp\\ipykernel_16176\\1028912912.py\u001b[0m in \u001b[0;36m<module>\u001b[1;34m\u001b[0m\n\u001b[1;32m----> 1\u001b[1;33m \u001b[0mX_test\u001b[0m\u001b[1;33m.\u001b[0m\u001b[0mreshape\u001b[0m\u001b[1;33m(\u001b[0m\u001b[1;33m(\u001b[0m\u001b[0mX_test\u001b[0m\u001b[1;33m[\u001b[0m\u001b[1;36m0\u001b[0m\u001b[1;33m]\u001b[0m\u001b[1;33m,\u001b[0m \u001b[0mX_test\u001b[0m\u001b[1;33m[\u001b[0m\u001b[1;36m1\u001b[0m\u001b[1;33m]\u001b[0m\u001b[1;33m,\u001b[0m \u001b[1;36m1\u001b[0m\u001b[1;33m)\u001b[0m\u001b[1;33m)\u001b[0m\u001b[1;33m\u001b[0m\u001b[1;33m\u001b[0m\u001b[0m\n\u001b[0m",
      "\u001b[1;31mTypeError\u001b[0m: only integer scalar arrays can be converted to a scalar index"
     ]
    }
   ],
   "source": [
    "X_test.reshape((X_test[0], X_test[1], 1))"
   ]
  },
  {
   "cell_type": "code",
   "execution_count": 104,
   "id": "525130c0",
   "metadata": {},
   "outputs": [],
   "source": []
  },
  {
   "cell_type": "code",
   "execution_count": 106,
   "id": "d497c534",
   "metadata": {},
   "outputs": [
    {
     "data": {
      "text/plain": [
       "(20, 60, 1)"
      ]
     },
     "execution_count": 106,
     "metadata": {},
     "output_type": "execute_result"
    }
   ],
   "source": [
    "X_test.shape"
   ]
  },
  {
   "cell_type": "code",
   "execution_count": 107,
   "id": "d1643d4b",
   "metadata": {},
   "outputs": [
    {
     "data": {
      "text/plain": [
       "array([0.92927708, 0.94711188, 0.94285394, 0.95999776, 0.98080191,\n",
       "       0.98352849, 0.97818739, 0.98218388, 0.98281883, 0.98207182,\n",
       "       0.97970008, 0.97841149, 0.98175435, 0.9823893 , 1.01049545,\n",
       "       1.02416569, 1.03946066, 1.03367135, 0.99622761, 0.96298579])"
      ]
     },
     "execution_count": 107,
     "metadata": {},
     "output_type": "execute_result"
    }
   ],
   "source": [
    "y_test"
   ]
  },
  {
   "cell_type": "code",
   "execution_count": 108,
   "id": "b3ee3760",
   "metadata": {},
   "outputs": [],
   "source": [
    "preds = regressor.predict(X_test)"
   ]
  },
  {
   "cell_type": "code",
   "execution_count": 109,
   "id": "a6dc4166",
   "metadata": {},
   "outputs": [
    {
     "data": {
      "text/plain": [
       "array([[0.9538065 ],\n",
       "       [0.94881207],\n",
       "       [0.96284306],\n",
       "       [0.95763946],\n",
       "       [0.97120094],\n",
       "       [0.98815525],\n",
       "       [0.9880539 ],\n",
       "       [0.98429686],\n",
       "       [0.9902156 ],\n",
       "       [0.99128777],\n",
       "       [0.99049336],\n",
       "       [0.98927504],\n",
       "       [0.98896635],\n",
       "       [0.9920997 ],\n",
       "       [0.99243194],\n",
       "       [1.0155008 ],\n",
       "       [1.0241609 ],\n",
       "       [1.0349715 ],\n",
       "       [1.0308893 ],\n",
       "       [1.003293  ]], dtype=float32)"
      ]
     },
     "execution_count": 109,
     "metadata": {},
     "output_type": "execute_result"
    }
   ],
   "source": [
    "preds"
   ]
  },
  {
   "cell_type": "code",
   "execution_count": 115,
   "id": "be736292",
   "metadata": {},
   "outputs": [],
   "source": [
    "comparison = pd.DataFrame(index=test.index)"
   ]
  },
  {
   "cell_type": "code",
   "execution_count": 116,
   "id": "6202b71c",
   "metadata": {},
   "outputs": [
    {
     "data": {
      "text/html": [
       "<div>\n",
       "<style scoped>\n",
       "    .dataframe tbody tr th:only-of-type {\n",
       "        vertical-align: middle;\n",
       "    }\n",
       "\n",
       "    .dataframe tbody tr th {\n",
       "        vertical-align: top;\n",
       "    }\n",
       "\n",
       "    .dataframe thead th {\n",
       "        text-align: right;\n",
       "    }\n",
       "</style>\n",
       "<table border=\"1\" class=\"dataframe\">\n",
       "  <thead>\n",
       "    <tr style=\"text-align: right;\">\n",
       "      <th></th>\n",
       "    </tr>\n",
       "    <tr>\n",
       "      <th>Date</th>\n",
       "    </tr>\n",
       "  </thead>\n",
       "  <tbody>\n",
       "    <tr>\n",
       "      <th>2017-01-03</th>\n",
       "    </tr>\n",
       "    <tr>\n",
       "      <th>2017-01-04</th>\n",
       "    </tr>\n",
       "    <tr>\n",
       "      <th>2017-01-05</th>\n",
       "    </tr>\n",
       "    <tr>\n",
       "      <th>2017-01-06</th>\n",
       "    </tr>\n",
       "    <tr>\n",
       "      <th>2017-01-09</th>\n",
       "    </tr>\n",
       "    <tr>\n",
       "      <th>2017-01-10</th>\n",
       "    </tr>\n",
       "    <tr>\n",
       "      <th>2017-01-11</th>\n",
       "    </tr>\n",
       "    <tr>\n",
       "      <th>2017-01-12</th>\n",
       "    </tr>\n",
       "    <tr>\n",
       "      <th>2017-01-13</th>\n",
       "    </tr>\n",
       "    <tr>\n",
       "      <th>2017-01-17</th>\n",
       "    </tr>\n",
       "    <tr>\n",
       "      <th>2017-01-18</th>\n",
       "    </tr>\n",
       "    <tr>\n",
       "      <th>2017-01-19</th>\n",
       "    </tr>\n",
       "    <tr>\n",
       "      <th>2017-01-20</th>\n",
       "    </tr>\n",
       "    <tr>\n",
       "      <th>2017-01-23</th>\n",
       "    </tr>\n",
       "    <tr>\n",
       "      <th>2017-01-24</th>\n",
       "    </tr>\n",
       "    <tr>\n",
       "      <th>2017-01-25</th>\n",
       "    </tr>\n",
       "    <tr>\n",
       "      <th>2017-01-26</th>\n",
       "    </tr>\n",
       "    <tr>\n",
       "      <th>2017-01-27</th>\n",
       "    </tr>\n",
       "    <tr>\n",
       "      <th>2017-01-30</th>\n",
       "    </tr>\n",
       "    <tr>\n",
       "      <th>2017-01-31</th>\n",
       "    </tr>\n",
       "  </tbody>\n",
       "</table>\n",
       "</div>"
      ],
      "text/plain": [
       "Empty DataFrame\n",
       "Columns: []\n",
       "Index: [2017-01-03 00:00:00, 2017-01-04 00:00:00, 2017-01-05 00:00:00, 2017-01-06 00:00:00, 2017-01-09 00:00:00, 2017-01-10 00:00:00, 2017-01-11 00:00:00, 2017-01-12 00:00:00, 2017-01-13 00:00:00, 2017-01-17 00:00:00, 2017-01-18 00:00:00, 2017-01-19 00:00:00, 2017-01-20 00:00:00, 2017-01-23 00:00:00, 2017-01-24 00:00:00, 2017-01-25 00:00:00, 2017-01-26 00:00:00, 2017-01-27 00:00:00, 2017-01-30 00:00:00, 2017-01-31 00:00:00]"
      ]
     },
     "execution_count": 116,
     "metadata": {},
     "output_type": "execute_result"
    }
   ],
   "source": [
    "comparison"
   ]
  },
  {
   "cell_type": "code",
   "execution_count": 117,
   "id": "912d9af3",
   "metadata": {},
   "outputs": [],
   "source": [
    "comparison['Real'] = y_test\n",
    "comparison['Predicted'] = preds"
   ]
  },
  {
   "cell_type": "code",
   "execution_count": 118,
   "id": "a8e31256",
   "metadata": {},
   "outputs": [
    {
     "data": {
      "text/html": [
       "<div>\n",
       "<style scoped>\n",
       "    .dataframe tbody tr th:only-of-type {\n",
       "        vertical-align: middle;\n",
       "    }\n",
       "\n",
       "    .dataframe tbody tr th {\n",
       "        vertical-align: top;\n",
       "    }\n",
       "\n",
       "    .dataframe thead th {\n",
       "        text-align: right;\n",
       "    }\n",
       "</style>\n",
       "<table border=\"1\" class=\"dataframe\">\n",
       "  <thead>\n",
       "    <tr style=\"text-align: right;\">\n",
       "      <th></th>\n",
       "      <th>Real</th>\n",
       "      <th>Predicted</th>\n",
       "    </tr>\n",
       "    <tr>\n",
       "      <th>Date</th>\n",
       "      <th></th>\n",
       "      <th></th>\n",
       "    </tr>\n",
       "  </thead>\n",
       "  <tbody>\n",
       "    <tr>\n",
       "      <th>2017-01-03</th>\n",
       "      <td>0.929277</td>\n",
       "      <td>0.953807</td>\n",
       "    </tr>\n",
       "    <tr>\n",
       "      <th>2017-01-04</th>\n",
       "      <td>0.947112</td>\n",
       "      <td>0.948812</td>\n",
       "    </tr>\n",
       "    <tr>\n",
       "      <th>2017-01-05</th>\n",
       "      <td>0.942854</td>\n",
       "      <td>0.962843</td>\n",
       "    </tr>\n",
       "    <tr>\n",
       "      <th>2017-01-06</th>\n",
       "      <td>0.959998</td>\n",
       "      <td>0.957639</td>\n",
       "    </tr>\n",
       "    <tr>\n",
       "      <th>2017-01-09</th>\n",
       "      <td>0.980802</td>\n",
       "      <td>0.971201</td>\n",
       "    </tr>\n",
       "    <tr>\n",
       "      <th>2017-01-10</th>\n",
       "      <td>0.983528</td>\n",
       "      <td>0.988155</td>\n",
       "    </tr>\n",
       "    <tr>\n",
       "      <th>2017-01-11</th>\n",
       "      <td>0.978187</td>\n",
       "      <td>0.988054</td>\n",
       "    </tr>\n",
       "    <tr>\n",
       "      <th>2017-01-12</th>\n",
       "      <td>0.982184</td>\n",
       "      <td>0.984297</td>\n",
       "    </tr>\n",
       "    <tr>\n",
       "      <th>2017-01-13</th>\n",
       "      <td>0.982819</td>\n",
       "      <td>0.990216</td>\n",
       "    </tr>\n",
       "    <tr>\n",
       "      <th>2017-01-17</th>\n",
       "      <td>0.982072</td>\n",
       "      <td>0.991288</td>\n",
       "    </tr>\n",
       "    <tr>\n",
       "      <th>2017-01-18</th>\n",
       "      <td>0.979700</td>\n",
       "      <td>0.990493</td>\n",
       "    </tr>\n",
       "    <tr>\n",
       "      <th>2017-01-19</th>\n",
       "      <td>0.978411</td>\n",
       "      <td>0.989275</td>\n",
       "    </tr>\n",
       "    <tr>\n",
       "      <th>2017-01-20</th>\n",
       "      <td>0.981754</td>\n",
       "      <td>0.988966</td>\n",
       "    </tr>\n",
       "    <tr>\n",
       "      <th>2017-01-23</th>\n",
       "      <td>0.982389</td>\n",
       "      <td>0.992100</td>\n",
       "    </tr>\n",
       "    <tr>\n",
       "      <th>2017-01-24</th>\n",
       "      <td>1.010495</td>\n",
       "      <td>0.992432</td>\n",
       "    </tr>\n",
       "    <tr>\n",
       "      <th>2017-01-25</th>\n",
       "      <td>1.024166</td>\n",
       "      <td>1.015501</td>\n",
       "    </tr>\n",
       "    <tr>\n",
       "      <th>2017-01-26</th>\n",
       "      <td>1.039461</td>\n",
       "      <td>1.024161</td>\n",
       "    </tr>\n",
       "    <tr>\n",
       "      <th>2017-01-27</th>\n",
       "      <td>1.033671</td>\n",
       "      <td>1.034971</td>\n",
       "    </tr>\n",
       "    <tr>\n",
       "      <th>2017-01-30</th>\n",
       "      <td>0.996228</td>\n",
       "      <td>1.030889</td>\n",
       "    </tr>\n",
       "    <tr>\n",
       "      <th>2017-01-31</th>\n",
       "      <td>0.962986</td>\n",
       "      <td>1.003293</td>\n",
       "    </tr>\n",
       "  </tbody>\n",
       "</table>\n",
       "</div>"
      ],
      "text/plain": [
       "                Real  Predicted\n",
       "Date                           \n",
       "2017-01-03  0.929277   0.953807\n",
       "2017-01-04  0.947112   0.948812\n",
       "2017-01-05  0.942854   0.962843\n",
       "2017-01-06  0.959998   0.957639\n",
       "2017-01-09  0.980802   0.971201\n",
       "2017-01-10  0.983528   0.988155\n",
       "2017-01-11  0.978187   0.988054\n",
       "2017-01-12  0.982184   0.984297\n",
       "2017-01-13  0.982819   0.990216\n",
       "2017-01-17  0.982072   0.991288\n",
       "2017-01-18  0.979700   0.990493\n",
       "2017-01-19  0.978411   0.989275\n",
       "2017-01-20  0.981754   0.988966\n",
       "2017-01-23  0.982389   0.992100\n",
       "2017-01-24  1.010495   0.992432\n",
       "2017-01-25  1.024166   1.015501\n",
       "2017-01-26  1.039461   1.024161\n",
       "2017-01-27  1.033671   1.034971\n",
       "2017-01-30  0.996228   1.030889\n",
       "2017-01-31  0.962986   1.003293"
      ]
     },
     "execution_count": 118,
     "metadata": {},
     "output_type": "execute_result"
    }
   ],
   "source": [
    "comparison"
   ]
  },
  {
   "cell_type": "code",
   "execution_count": 119,
   "id": "52cb48e2",
   "metadata": {},
   "outputs": [
    {
     "data": {
      "image/png": "[encoded data removed]",
      "text/plain": [
       "<Figure size 1600x800 with 1 Axes>"
      ]
     },
     "metadata": {},
     "output_type": "display_data"
    }
   ],
   "source": [
    "fig, ax = plt.subplots(figsize=(16,8))\n",
    "\n",
    "ax.plot(comparison['Real'])\n",
    "ax.plot(comparison['Predicted'])\n",
    "ax.set_xlabel('Date')\n",
    "ax.set_ylabel('Stock Price')\n",
    "ax.legend(['Real', 'Predicted'])\n",
    "\n",
    "plt.show()"
   ]
  },
  {
   "cell_type": "code",
   "execution_count": 120,
   "id": "37c979fd",
   "metadata": {},
   "outputs": [
    {
     "data": {
      "text/plain": [
       "array([[791.9448 ],\n",
       "       [789.2704 ],\n",
       "       [796.78357],\n",
       "       [793.9972 ],\n",
       "       [801.259  ],\n",
       "       [810.3375 ],\n",
       "       [810.28326],\n",
       "       [808.2714 ],\n",
       "       [811.44073],\n",
       "       [812.01483],\n",
       "       [811.5895 ],\n",
       "       [810.9371 ],\n",
       "       [810.77185],\n",
       "       [812.4496 ],\n",
       "       [812.6275 ],\n",
       "       [824.9802 ],\n",
       "       [829.61743],\n",
       "       [835.4062 ],\n",
       "       [833.2203 ],\n",
       "       [818.44336]], dtype=float32)"
      ]
     },
     "execution_count": 120,
     "metadata": {},
     "output_type": "execute_result"
    }
   ],
   "source": [
    "mms.inverse_transform(preds)"
   ]
  },
  {
   "cell_type": "code",
   "execution_count": null,
   "id": "5d0f6212",
   "metadata": {},
   "outputs": [],
   "source": []
  }
 ],
 "metadata": {
  "kernelspec": {
   "display_name": "Python 3 (ipykernel)",
   "language": "python",
   "name": "python3"
  },
  "language_info": {
   "codemirror_mode": {
    "name": "ipython",
    "version": 3
   },
   "file_extension": ".py",
   "mimetype": "text/x-python",
   "name": "python",
   "nbconvert_exporter": "python",
   "pygments_lexer": "ipython3",
   "version": "3.7.16"
  }
 },
 "nbformat": 4,
 "nbformat_minor": 5
}
